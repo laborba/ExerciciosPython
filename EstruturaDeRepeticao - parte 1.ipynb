{
 "cells": [
  {
   "cell_type": "markdown",
   "metadata": {},
   "source": [
    "Estrutura de Repetição"
   ]
  },
  {
   "cell_type": "markdown",
   "metadata": {},
   "source": [
    "1. Faça um programa que peça uma nota, entre zero e dez. Mostre uma mensagem caso o valor seja inválido e continue pedindo até que o usuário informe um valor válido."
   ]
  },
  {
   "cell_type": "code",
   "execution_count": 1,
   "metadata": {},
   "outputs": [
    {
     "name": "stdout",
     "output_type": "stream",
     "text": [
      "11\n",
      "Nota inválida. Tente novamente!\n",
      "15\n",
      "Nota inválida. Tente novamente!\n",
      "-8\n",
      "Nota inválida. Tente novamente!\n",
      "10\n",
      "Nota 10 adicionada!\n"
     ]
    }
   ],
   "source": [
    "while True:\n",
    "    numero = int(input('Digite uma nota entre 0 e 10: '))\n",
    "    print(numero)\n",
    "    if numero < 0 or numero > 10:\n",
    "        print('Nota inválida. Tente novamente!')\n",
    "    else:\n",
    "        print(f'Nota {numero} adicionada!')\n",
    "        break"
   ]
  },
  {
   "cell_type": "markdown",
   "metadata": {},
   "source": [
    "2. Faça um programa que leia um nome de usuário e a sua senha e não aceite a senha igual ao nome do usuário, mostrando uma mensagem de erro e voltando a pedir as informações."
   ]
  },
  {
   "cell_type": "code",
   "execution_count": 4,
   "metadata": {},
   "outputs": [
    {
     "name": "stdout",
     "output_type": "stream",
     "text": [
      "lucas\n",
      "Senha inválida! A senha não pode ser igual ao nome de usuário, tente novamente.\n",
      "Senha inválida! A senha não pode ser igual ao nome de usuário, tente novamente.\n",
      "Conta criada com sucesso.\n",
      "Usuário: lucas | Senha: lucas123\n"
     ]
    }
   ],
   "source": [
    "usuario = input('Digite um nome de usuário: ')\n",
    "print(usuario)\n",
    "while True:\n",
    "    senha = input('Digite uma senha: ')\n",
    "    if senha == usuario:\n",
    "        print('Senha inválida! A senha não pode ser igual ao nome de usuário, tente novamente.')\n",
    "    else:\n",
    "        print('Conta criada com sucesso.')\n",
    "        break\n",
    "print(f'Usuário: {usuario} | Senha: {senha}')"
   ]
  },
  {
   "cell_type": "markdown",
   "metadata": {},
   "source": [
    "3. Faça um programa que leia e valide as seguintes informações:\n",
    "- Nome: maior que 3 caracteres;\n",
    "- Idade: entre 0 e 150;\n",
    "- Salário: maior que zero;\n",
    "- Sexo: 'f' ou 'm';\n",
    "- Estado Civil: 's', 'c', 'v', 'd';"
   ]
  },
  {
   "cell_type": "code",
   "execution_count": 7,
   "metadata": {},
   "outputs": [
    {
     "name": "stdout",
     "output_type": "stream",
     "text": [
      "luc\n",
      "Nome inválido, precisa de mais de 3 caracteres.\n",
      "178\n",
      "Idade inválida, digite um número válido.\n",
      "-45.0\n",
      "Valor inválido, digite um valor válido para o salário.\n",
      "Q\n",
      "Genero incorreto. Precisa ser F ou M. Digite novamente.\n",
      "Q\n",
      "Valor inválido! Digite novamente seu estado civil.\n",
      "\n",
      "Registro concluído: \n",
      "Lucas | 26 anos | Salário: R$ 1500.00 | Genero: M | Estado Civil: S\n"
     ]
    }
   ],
   "source": [
    "while True:\n",
    "    nome = input('Digite seu nome: ')\n",
    "    if len(nome) <= 3:\n",
    "        print(nome)\n",
    "        print('Nome inválido, precisa de mais de 3 caracteres.')\n",
    "    else:\n",
    "        break\n",
    "while True:\n",
    "    idade = int(input('Digite sua idade: '))\n",
    "    if idade < 0 or idade > 150:\n",
    "        print(idade)\n",
    "        print('Idade inválida, digite um número válido.')\n",
    "    else:\n",
    "        break\n",
    "while True:\n",
    "    salario = float(input('Digite seu sálario: '))\n",
    "    if salario < 0:\n",
    "        print(salario)\n",
    "        print('Valor inválido, digite um valor válido para o salário.')\n",
    "    else:\n",
    "        break\n",
    "while True:\n",
    "    genero = input('Digite seu gênero (F-feminino | M-masculino): ')\n",
    "    if genero != 'F' and genero != 'M':\n",
    "        print(genero)\n",
    "        print('Genero incorreto. Precisa ser F ou M. Digite novamente.')\n",
    "    else:\n",
    "        break\n",
    "while True:\n",
    "    civil = input('Digite seu estado civil (S-solteiro, C-casado, V-viúvo ou D-divorsiado): ')\n",
    "    if civil != 'S' and civil != 'C' and civil != 'V' and civil != 'D':\n",
    "        print(civil)\n",
    "        print('Valor inválido! Digite novamente seu estado civil.')\n",
    "    else:\n",
    "        break\n",
    "print('\\nRegistro concluído: ')\n",
    "print(f'{nome} | {idade} anos | Salário: R$ {salario:.2f} | Genero: {genero} | Estado Civil: {civil}')\n"
   ]
  },
  {
   "cell_type": "markdown",
   "metadata": {},
   "source": [
    "4. Supondo que a população de um país 'A' seja da ordem de 80000 habitantes com uma taxa anual de crescimento de 3% e que a população de 'B' seja 200000 habitantes com uma taxa de crescimento de 1.5%. Faça um programa que calcule e escreva o número de anos necessários para que a população do país 'A' ultrapasse ou iguale a população do país 'B', mantidas as taxas de crescimento."
   ]
  },
  {
   "cell_type": "code",
   "execution_count": 4,
   "metadata": {},
   "outputs": [
    {
     "name": "stdout",
     "output_type": "stream",
     "text": [
      "Ano 1 - População A: 82400 | População B: 203000\n",
      "Ano 2 - População A: 84872 | População B: 206045\n",
      "Ano 3 - População A: 87418 | População B: 209136\n",
      "Ano 4 - População A: 90041 | População B: 212273\n",
      "Ano 5 - População A: 92742 | População B: 215457\n",
      "Ano 6 - População A: 95524 | População B: 218689\n",
      "Ano 7 - População A: 98390 | População B: 221969\n",
      "Ano 8 - População A: 101342 | População B: 225299\n",
      "Ano 9 - População A: 104382 | População B: 228678\n",
      "Ano 10 - População A: 107513 | População B: 232108\n",
      "Ano 11 - População A: 110739 | População B: 235590\n",
      "Ano 12 - População A: 114061 | População B: 239124\n",
      "Ano 13 - População A: 117483 | População B: 242710\n",
      "Ano 14 - População A: 121007 | População B: 246351\n",
      "Ano 15 - População A: 124637 | População B: 250046\n",
      "Ano 16 - População A: 128377 | População B: 253797\n",
      "Ano 17 - População A: 132228 | População B: 257604\n",
      "Ano 18 - População A: 136195 | População B: 261468\n",
      "Ano 19 - População A: 140280 | População B: 265390\n",
      "Ano 20 - População A: 144489 | População B: 269371\n",
      "Ano 21 - População A: 148824 | População B: 273412\n",
      "Ano 22 - População A: 153288 | População B: 277513\n",
      "Ano 23 - População A: 157887 | População B: 281675\n",
      "Ano 24 - População A: 162624 | População B: 285901\n",
      "Ano 25 - População A: 167502 | População B: 290189\n",
      "Ano 26 - População A: 172527 | População B: 294542\n",
      "Ano 27 - População A: 177703 | População B: 298960\n",
      "Ano 28 - População A: 183034 | População B: 303444\n",
      "Ano 29 - População A: 188525 | População B: 307996\n",
      "Ano 30 - População A: 194181 | População B: 312616\n",
      "Ano 31 - População A: 200006 | População B: 317305\n",
      "Ano 32 - População A: 206007 | População B: 322065\n",
      "Ano 33 - População A: 212187 | População B: 326896\n",
      "Ano 34 - População A: 218552 | População B: 331799\n",
      "Ano 35 - População A: 225109 | População B: 336776\n",
      "Ano 36 - População A: 231862 | População B: 341828\n",
      "Ano 37 - População A: 238818 | População B: 346955\n",
      "Ano 38 - População A: 245983 | População B: 352160\n",
      "Ano 39 - População A: 253362 | População B: 357442\n",
      "Ano 40 - População A: 260963 | População B: 362804\n",
      "Ano 41 - População A: 268792 | População B: 368246\n",
      "Ano 42 - População A: 276856 | População B: 373769\n",
      "Ano 43 - População A: 285161 | População B: 379376\n",
      "Ano 44 - População A: 293716 | População B: 385067\n",
      "Ano 45 - População A: 302528 | População B: 390843\n",
      "Ano 46 - População A: 311603 | População B: 396705\n",
      "Ano 47 - População A: 320952 | População B: 402656\n",
      "Ano 48 - População A: 330580 | População B: 408696\n",
      "Ano 49 - População A: 340498 | População B: 414826\n",
      "Ano 50 - População A: 350712 | População B: 421048\n",
      "Ano 51 - População A: 361234 | População B: 427364\n",
      "Ano 52 - População A: 372071 | População B: 433775\n",
      "Ano 53 - População A: 383233 | População B: 440281\n",
      "Ano 54 - População A: 394730 | População B: 446886\n",
      "Ano 55 - População A: 406572 | População B: 453589\n",
      "Ano 56 - População A: 418769 | População B: 460393\n",
      "Ano 57 - População A: 431332 | População B: 467299\n",
      "Ano 58 - População A: 444272 | População B: 474308\n",
      "Ano 59 - População A: 457600 | População B: 481423\n",
      "Ano 60 - População A: 471328 | População B: 488644\n",
      "Ano 61 - População A: 485468 | População B: 495974\n",
      "Ano 62 - População A: 500032 | População B: 503413\n",
      "Ano 63 - População A: 515033 | População B: 510964\n",
      "Levariam 63 anos para A ultrapassar ou se igualar a B.\n"
     ]
    }
   ],
   "source": [
    "a = 80000\n",
    "b = 200000\n",
    "taxa_a = a * 0.03\n",
    "taxa_b = b * 0.015\n",
    "anos = 0\n",
    "\n",
    "while True:\n",
    "    if a < b:\n",
    "        a += taxa_a\n",
    "        taxa_a = a * 0.03\n",
    "        b += taxa_b\n",
    "        taxa_b = b * 0.015\n",
    "        anos += 1\n",
    "        print(f'Ano {anos} - População A: {a:.0f} | População B: {b:.0f}')\n",
    "    else:\n",
    "        print(f'Levariam {anos} anos para A ultrapassar ou se igualar a B.')\n",
    "        break\n",
    "\n"
   ]
  },
  {
   "cell_type": "markdown",
   "metadata": {},
   "source": [
    "5. Altere o programa anterior permitindo ao usuário informar as populações e as taxas de crescimento iniciais. Valide a entrada e permita repetir a operação."
   ]
  },
  {
   "cell_type": "code",
   "execution_count": 10,
   "metadata": {},
   "outputs": [
    {
     "name": "stdout",
     "output_type": "stream",
     "text": [
      "População inicial A: 10000 | População inicial B: 50000\n",
      "População A: 262835 | População B: 261498\n",
      "Levariam 67 anos para A ultrapassar ou se igualar a B.\n",
      "\n",
      "Ok... passe os novos dados.\n",
      "\n",
      "População inicial A: 80000 | População inicial B: 200000\n",
      "População A: 515033 | População B: 510964\n",
      "Levariam 63 anos para A ultrapassar ou se igualar a B.\n"
     ]
    }
   ],
   "source": [
    "while True:\n",
    "    a = int(input('Digite a população da cidade A: '))\n",
    "    porcentagem_a = float(input('Digite quantos porcento de taxa de crescimento da cidade A: '))\n",
    "    b = int(input('Digite a população da cidade B: '))\n",
    "    porcentagem_b = float(input('Digite quantos porcento de taxa de crescimento da cidade b: '))\n",
    "    taxa_a = a * (porcentagem_a / 100)\n",
    "    taxa_b = b * (porcentagem_b / 100)\n",
    "    anos = 0\n",
    "    print(f'População inicial A: {a:.0f} | População inicial B: {b:.0f}')\n",
    "\n",
    "    while True:\n",
    "        if a < b:\n",
    "            a += taxa_a\n",
    "            taxa_a = a * (porcentagem_a / 100)\n",
    "            b += taxa_b\n",
    "            taxa_b = b * (porcentagem_b / 100)\n",
    "            anos += 1\n",
    "        else:\n",
    "            print(f'População A: {a:.0f} | População B: {b:.0f}')\n",
    "            print(f'Levariam {anos} anos para A ultrapassar ou se igualar a B.')\n",
    "            break\n",
    "    \n",
    "    resposta = input('Deseja testar com outros números? (s/n)')\n",
    "    if resposta == 's' or resposta == 'S':\n",
    "        print('\\nOk... passe os novos dados.\\n')\n",
    "    else:\n",
    "        break"
   ]
  },
  {
   "cell_type": "markdown",
   "metadata": {},
   "source": [
    "6. Faça um programa que imprima na tela os números de 1 a 20, um abaixo do outro. Depois modifique o programa para que ele mostre os números um ao lado do outro."
   ]
  },
  {
   "cell_type": "code",
   "execution_count": 14,
   "metadata": {},
   "outputs": [
    {
     "name": "stdout",
     "output_type": "stream",
     "text": [
      "1\n",
      "2\n",
      "3\n",
      "4\n",
      "5\n",
      "6\n",
      "7\n",
      "8\n",
      "9\n",
      "10\n",
      "11\n",
      "12\n",
      "13\n",
      "14\n",
      "15\n",
      "16\n",
      "17\n",
      "18\n",
      "19\n",
      "20\n"
     ]
    }
   ],
   "source": [
    "## numeros um abaixo do outro\n",
    "for i in range(1, 21):\n",
    "    print(i)"
   ]
  },
  {
   "cell_type": "code",
   "execution_count": 16,
   "metadata": {},
   "outputs": [
    {
     "name": "stdout",
     "output_type": "stream",
     "text": [
      "1 2 3 4 5 6 7 8 9 10 11 12 13 14 15 16 17 18 19 20 "
     ]
    }
   ],
   "source": [
    "## números ao lado do outro\n",
    "for i in range(1, 21):\n",
    "    print(i, end=' ')"
   ]
  },
  {
   "cell_type": "markdown",
   "metadata": {},
   "source": [
    "7. Faça um programa que leia 5 números e informe o maior número."
   ]
  },
  {
   "cell_type": "code",
   "execution_count": 21,
   "metadata": {},
   "outputs": [
    {
     "name": "stdout",
     "output_type": "stream",
     "text": [
      "2\n",
      "56\n",
      "3\n",
      "48\n",
      "5\n",
      "Maior número é:  56\n"
     ]
    }
   ],
   "source": [
    "numeros = [int(input(f'Digite o {item + 1}° Número: ')) for item in range(5)]\n",
    "maior = max(numeros)        #pega o maior número da lista\n",
    "for numero in numeros:\n",
    "    print(numero)\n",
    "print('Maior número é: ', maior)"
   ]
  },
  {
   "cell_type": "markdown",
   "metadata": {},
   "source": [
    "8. Faça um programa que leia 5 números e informe a soma e a média dos números."
   ]
  },
  {
   "cell_type": "code",
   "execution_count": 22,
   "metadata": {},
   "outputs": [
    {
     "name": "stdout",
     "output_type": "stream",
     "text": [
      "5\n",
      "4\n",
      "68\n",
      "24\n",
      "3\n",
      "Soma: 104 | Média: 20.8\n"
     ]
    }
   ],
   "source": [
    "numeros = [int(input(f'Digite o {item + 1}° Número: ')) for item in range(5)]\n",
    "soma = 0\n",
    "for numero in numeros:\n",
    "    print(numero)\n",
    "    soma += numero\n",
    "\n",
    "media = soma / len(numeros)\n",
    "print(f'Soma: {soma} | Média: {media}')"
   ]
  },
  {
   "cell_type": "markdown",
   "metadata": {},
   "source": [
    "9. Faça um programa que imprima na tela apenas os números ímpares entre 1 e 50."
   ]
  },
  {
   "cell_type": "code",
   "execution_count": 23,
   "metadata": {},
   "outputs": [
    {
     "name": "stdout",
     "output_type": "stream",
     "text": [
      "1 3 5 7 9 11 13 15 17 19 21 23 25 27 29 31 33 35 37 39 41 43 45 47 49 "
     ]
    }
   ],
   "source": [
    "for i in range(1, 50):\n",
    "    if i % 2:\n",
    "        print(i, end=' ')"
   ]
  },
  {
   "cell_type": "markdown",
   "metadata": {},
   "source": [
    "10. Faça um programa que receba dois números inteiros e gere os números inteiros que estão no intervalo compreendido por eles."
   ]
  },
  {
   "cell_type": "code",
   "execution_count": 29,
   "metadata": {},
   "outputs": [
    {
     "name": "stdout",
     "output_type": "stream",
     "text": [
      "2 10\n",
      "3 4 5 6 7 8 9 "
     ]
    }
   ],
   "source": [
    "num_1 = int(input('Digite o primeiro número inteiro: '))\n",
    "num_2 = int(input('Digite o segundo número inteiro: '))\n",
    "\n",
    "print(num_1, num_2)\n",
    "for i in range(num_1+1, num_2):\n",
    "    print(i, end=' ')"
   ]
  },
  {
   "cell_type": "markdown",
   "metadata": {},
   "source": [
    "11. Altere o programa anterior para mostrar no final a soma dos números."
   ]
  },
  {
   "cell_type": "code",
   "execution_count": 31,
   "metadata": {},
   "outputs": [
    {
     "name": "stdout",
     "output_type": "stream",
     "text": [
      "2 10\n",
      "3 4 5 6 7 8 9 - Soma:  42\n"
     ]
    }
   ],
   "source": [
    "num_1 = int(input('Digite o primeiro número inteiro: '))\n",
    "num_2 = int(input('Digite o segundo número inteiro: '))\n",
    "soma = 0\n",
    "print(num_1, num_2)\n",
    "for i in range(num_1+1, num_2):\n",
    "    print(i, end=' ')\n",
    "    soma += i\n",
    "\n",
    "print('- Soma: ', soma)"
   ]
  },
  {
   "cell_type": "markdown",
   "metadata": {},
   "source": [
    "12. Desenvolva um gerador de tabuada, capaz de gerar a tabuada de qualquer número inteiro entre 1 a 10. O usuário deve informar de qual numero ele deseja ver a tabuada. A saída deve ser conforme o exemplo abaixo:\n",
    "Tabuada de 5:\n",
    "\n",
    "- 5 X 1 = 5\n",
    "- 5 X 2 = 10\n",
    "- ...\n",
    "- 5 X 10 = 50"
   ]
  },
  {
   "cell_type": "code",
   "execution_count": 34,
   "metadata": {},
   "outputs": [
    {
     "name": "stdout",
     "output_type": "stream",
     "text": [
      "9 * 1 = 9\n",
      "9 * 2 = 18\n",
      "9 * 3 = 27\n",
      "9 * 4 = 36\n",
      "9 * 5 = 45\n",
      "9 * 6 = 54\n",
      "9 * 7 = 63\n",
      "9 * 8 = 72\n",
      "9 * 9 = 81\n",
      "9 * 10 = 90\n"
     ]
    }
   ],
   "source": [
    "num = int(input('Digite o número que deseja ver a tabuada (1 a 10): '))\n",
    "\n",
    "for i in range (1, 11):\n",
    "    tabuada = num * i\n",
    "    print(f'{num} * {i} = {tabuada}')\n"
   ]
  },
  {
   "cell_type": "markdown",
   "metadata": {},
   "source": [
    "13. Faça um programa que peça dois números, base e expoente, calcule e mostre o primeiro número elevado ao segundo número. Não utilize a função de potência da linguagem."
   ]
  },
  {
   "cell_type": "code",
   "execution_count": 8,
   "metadata": {},
   "outputs": [
    {
     "name": "stdout",
     "output_type": "stream",
     "text": [
      "5^3 = 45\n"
     ]
    }
   ],
   "source": [
    "base = int(input('Digite a base: '))\n",
    "expoente = int(input('Digite o expoente: '))\n",
    "calculo = base\n",
    "\n",
    "for i in range (1, expoente):\n",
    "    calculo = calculo * expoente\n",
    "\n",
    "print(f'{base}^{expoente} = {calculo}')"
   ]
  },
  {
   "cell_type": "markdown",
   "metadata": {},
   "source": [
    "14. Faça um programa que peça 10 números inteiros, calcule e mostre a quantidade de números pares e a quantidade de números impares."
   ]
  },
  {
   "cell_type": "code",
   "execution_count": 13,
   "metadata": {},
   "outputs": [
    {
     "name": "stdout",
     "output_type": "stream",
     "text": [
      "1 14 23 35 66 87 45 21 65 44 \n",
      "Par = 3 | Ímpar = 7\n"
     ]
    }
   ],
   "source": [
    "numeros = [int(input(f'Digite o {item + 1}° Número: ')) for item in range(10)]\n",
    "impar = 0\n",
    "par = 0\n",
    "\n",
    "for numero in numeros:\n",
    "    if numero % 2:\n",
    "        impar += 1\n",
    "    else:\n",
    "        par += 1\n",
    "    print(numero, end = ' ')\n",
    "\n",
    "print(f'\\nPar = {par} | Ímpar = {impar}')\n",
    "        "
   ]
  },
  {
   "cell_type": "markdown",
   "metadata": {},
   "source": [
    "15. A série de Fibonacci é formada pela seqüência 1,1,2,3,5,8,13,21,34,55,... Faça um programa capaz de gerar a série até o n−ésimo termo."
   ]
  },
  {
   "cell_type": "code",
   "execution_count": 16,
   "metadata": {},
   "outputs": [
    {
     "name": "stdout",
     "output_type": "stream",
     "text": [
      "1, 1, 2, 3, 5, 8, 13, 21, 34, 55, 89, "
     ]
    }
   ],
   "source": [
    "n1 = 0\n",
    "n2 = 1\n",
    "print(n2, end = ', ')\n",
    "\n",
    "for i in range (10):\n",
    "    n3 = n2 + n1\n",
    "    n1 = n2\n",
    "    n2 = n3\n",
    "    print(n3, end = ', ')\n",
    "\n"
   ]
  },
  {
   "cell_type": "markdown",
   "metadata": {},
   "source": [
    "16. A série de Fibonacci é formada pela seqüência 0,1,1,2,3,5,8,13,21,34,55,... Faça um programa que gere a série até que o valor seja maior que 500."
   ]
  },
  {
   "cell_type": "code",
   "execution_count": 17,
   "metadata": {},
   "outputs": [
    {
     "name": "stdout",
     "output_type": "stream",
     "text": [
      "1, 1, 2, 3, 5, 8, 13, 21, 34, 55, 89, 144, 233, 377, 610, "
     ]
    }
   ],
   "source": [
    "n1 = 0\n",
    "n2 = 1\n",
    "print(n2, end = ', ')\n",
    "\n",
    "for i in range (500):\n",
    "    n3 = n2 + n1\n",
    "    n1 = n2\n",
    "    n2 = n3\n",
    "    print(n3, end = ', ')\n",
    "    if n3 > 500:\n",
    "        break"
   ]
  },
  {
   "cell_type": "markdown",
   "metadata": {},
   "source": [
    "17. Faça um programa que calcule o fatorial de um número inteiro fornecido pelo usuário. Ex.: 5!=5.4.3.2.1=120"
   ]
  },
  {
   "cell_type": "code",
   "execution_count": 33,
   "metadata": {},
   "outputs": [
    {
     "name": "stdout",
     "output_type": "stream",
     "text": [
      "5!=5.4.3.2.1.=120\n"
     ]
    }
   ],
   "source": [
    "fatorial = int(input('Digite um número: '))\n",
    "num = fatorial -1\n",
    "calculo = fatorial\n",
    "print(fatorial, end = '!=')\n",
    "print(fatorial, end = '.')\n",
    "\n",
    "while num != 0:\n",
    "    calculo = calculo * num\n",
    "    print(num, end = '.')\n",
    "    num -= 1\n",
    "\n",
    "print(f'={calculo}')\n"
   ]
  },
  {
   "cell_type": "markdown",
   "metadata": {},
   "source": [
    "18. Faça um programa que, dado um conjunto de N números, determine o menor valor, o maior valor e a soma dos valores."
   ]
  },
  {
   "cell_type": "code",
   "execution_count": 43,
   "metadata": {},
   "outputs": [
    {
     "name": "stdout",
     "output_type": "stream",
     "text": [
      "Você digitou 5 números.\n",
      "14 265 315 21 36 \n",
      "O menor número é 14, o maior 315 e a soma dos dois é 329.\n"
     ]
    }
   ],
   "source": [
    "num = int(input('Digite quantos números irá digitar: '))\n",
    "numeros = [int(input(f'Digite o {item + 1}º número (entre 0 e 1000): ')) for item in range(num)]  \n",
    "\n",
    "menor = min(numeros)\n",
    "maior = max(numeros)\n",
    "soma = menor + maior\n",
    "\n",
    "print(f'Você digitou {num} números.')\n",
    "for num in numeros:\n",
    "    print(num, end= ' ')\n",
    "print(f'\\nO menor número é {menor}, o maior {maior} e a soma dos dois é {soma}.')\n"
   ]
  },
  {
   "cell_type": "markdown",
   "metadata": {},
   "source": [
    "19. Altere o programa anterior para que ele aceite apenas números entre 0 e 1000."
   ]
  },
  {
   "cell_type": "code",
   "execution_count": 44,
   "metadata": {},
   "outputs": [
    {
     "name": "stdout",
     "output_type": "stream",
     "text": [
      "Valor inválido, digite novamente.\n",
      "Valor inválido, digite novamente.\n",
      "Você digitou 5 números.\n",
      "254 321 125 264 35 \n",
      "O menor número é 35, o maior 321 e a soma dos dois é 356.\n"
     ]
    }
   ],
   "source": [
    "num = int(input('Digite quantos números irá digitar: '))\n",
    "\n",
    "while True:\n",
    "    numeros = [int(input(f'Digite o {item + 1}º número (entre 0 e 1000): ')) for item in range(num)]\n",
    "    if min(numeros) < 0 or max(numeros) > 1000:\n",
    "        print('Valor inválido, digite novamente.')\n",
    "    else:\n",
    "        break\n",
    "\n",
    "menor = min(numeros)\n",
    "maior = max(numeros)\n",
    "soma = menor + maior\n",
    "\n",
    "print(f'Você digitou {num} números.')\n",
    "for num in numeros:\n",
    "    print(num, end= ' ')\n",
    "print(f'\\nO menor número é {menor}, o maior {maior} e a soma dos dois é {soma}.')"
   ]
  },
  {
   "cell_type": "markdown",
   "metadata": {},
   "source": [
    "20. Altere o programa de cálculo do fatorial, permitindo ao usuário calcular o fatorial várias vezes e limitando o fatorial a números inteiros positivos e menores que 16."
   ]
  },
  {
   "cell_type": "code",
   "execution_count": 46,
   "metadata": {},
   "outputs": [
    {
     "name": "stdout",
     "output_type": "stream",
     "text": [
      "Valor inválido(-1), tente novamente.\n",
      "Valor inválido(17), tente novamente.\n",
      "14!=14.13.12.11.10.9.8.7.6.5.4.3.2.1.=87178291200\n",
      "\n",
      "Próxima tentativa...\n",
      "\n",
      "7!=7.6.5.4.3.2.1.=5040\n",
      "\n",
      "Próxima tentativa...\n",
      "\n",
      "5!=5.4.3.2.1.=120\n"
     ]
    }
   ],
   "source": [
    "while True:\n",
    "    while True:\n",
    "        fatorial = int(input('Digite um número entre 1 e 16: '))\n",
    "        if fatorial <= 0 or fatorial > 16:\n",
    "            print(f'Valor inválido({fatorial}), tente novamente.')\n",
    "        else:\n",
    "            break\n",
    "    num = fatorial -1\n",
    "    calculo = fatorial\n",
    "    print(fatorial, end = '!=')\n",
    "    print(fatorial, end = '.')\n",
    "\n",
    "    while num != 0:\n",
    "        calculo = calculo * num\n",
    "        print(num, end = '.')\n",
    "        num -= 1\n",
    "    print(f'={calculo}')\n",
    "\n",
    "    resposta = input('Deseja tentar novamente? (s/n)')\n",
    "    if resposta == 's' or resposta == 'S':\n",
    "        print('\\nPróxima tentativa...\\n')\n",
    "    else:\n",
    "        break"
   ]
  }
 ],
 "metadata": {
  "kernelspec": {
   "display_name": "Python 3",
   "language": "python",
   "name": "python3"
  },
  "language_info": {
   "codemirror_mode": {
    "name": "ipython",
    "version": 3
   },
   "file_extension": ".py",
   "mimetype": "text/x-python",
   "name": "python",
   "nbconvert_exporter": "python",
   "pygments_lexer": "ipython3",
   "version": "3.12.3"
  }
 },
 "nbformat": 4,
 "nbformat_minor": 2
}
