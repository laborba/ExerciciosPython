{
 "cells": [
  {
   "cell_type": "markdown",
   "metadata": {},
   "source": [
    "Exercícios de Fixação - Estrutura Sequencial"
   ]
  },
  {
   "cell_type": "markdown",
   "metadata": {},
   "source": [
    "1. Faça um Programa que mostre a mensagem \"Alo mundo\" na tela."
   ]
  },
  {
   "cell_type": "code",
   "execution_count": 1,
   "metadata": {},
   "outputs": [
    {
     "name": "stdout",
     "output_type": "stream",
     "text": [
      "Olá mundo!\n"
     ]
    }
   ],
   "source": [
    "print('Olá mundo!')"
   ]
  },
  {
   "cell_type": "markdown",
   "metadata": {},
   "source": [
    "2. Faça um Programa que peça um número e então mostre a mensagem O número informado foi [número]."
   ]
  },
  {
   "cell_type": "code",
   "execution_count": 2,
   "metadata": {},
   "outputs": [
    {
     "name": "stdout",
     "output_type": "stream",
     "text": [
      "O número informado foi * 5 *\n"
     ]
    }
   ],
   "source": [
    "numero = input('Digite um número inteiro: ')\n",
    "print(f'O número informado foi * {numero} *')"
   ]
  },
  {
   "cell_type": "markdown",
   "metadata": {},
   "source": [
    "3. Faça um Programa que peça dois números e imprima a soma."
   ]
  },
  {
   "cell_type": "code",
   "execution_count": 9,
   "metadata": {},
   "outputs": [
    {
     "name": "stdout",
     "output_type": "stream",
     "text": [
      "Digite dois números para somar:\n",
      "14 + 297 = 311\n"
     ]
    }
   ],
   "source": [
    "print('Digite dois números para somar:')\n",
    "primeiro_numero = int(input('Primeiro número: '))\n",
    "segundo_numero = int(input('Segundo número: '))\n",
    "soma = primeiro_numero + segundo_numero\n",
    "print(f'{primeiro_numero} + {segundo_numero} = {soma}')"
   ]
  },
  {
   "cell_type": "markdown",
   "metadata": {},
   "source": [
    "4. Faça um Programa que peça as 4 notas bimestrais e mostre a média."
   ]
  },
  {
   "cell_type": "code",
   "execution_count": 16,
   "metadata": {},
   "outputs": [
    {
     "name": "stdout",
     "output_type": "stream",
     "text": [
      "Digite as notas bimestrais:\n",
      "Notas: 7.5 | 8.0 | 4.5 | 9.5\n",
      "Média: 7.375\n"
     ]
    }
   ],
   "source": [
    "print('Digite as notas bimestrais:')\n",
    "nota1 = float(input('1° bimestre: '))\n",
    "nota2 = float(input('2° bimestre: '))\n",
    "nota3 = float(input('3° bimestre: '))\n",
    "nota4 = float(input('4° bimestre: '))\n",
    "media = (nota1 + nota2 + nota3 + nota4) / 4\n",
    "print(f'Notas: {nota1} | {nota2} | {nota3} | {nota4}')\n",
    "print(f'Média: {media}')"
   ]
  },
  {
   "cell_type": "markdown",
   "metadata": {},
   "source": [
    "5. Faça um Programa que converta metros para centímetros."
   ]
  },
  {
   "cell_type": "code",
   "execution_count": 15,
   "metadata": {},
   "outputs": [
    {
     "name": "stdout",
     "output_type": "stream",
     "text": [
      "12.6 metros são 1260 centímetros.\n"
     ]
    }
   ],
   "source": [
    "metros = float(input('Quantos metros deseja converter para centímetros: '))\n",
    "centimetros = int(metros*100)\n",
    "print(f'{metros} metros são {centimetros} centímetros.')"
   ]
  },
  {
   "cell_type": "markdown",
   "metadata": {},
   "source": [
    "6. Faça um Programa que peça o raio de um círculo, calcule e mostre sua área."
   ]
  },
  {
   "cell_type": "code",
   "execution_count": 20,
   "metadata": {},
   "outputs": [
    {
     "name": "stdout",
     "output_type": "stream",
     "text": [
      "Raio = 31.0 | Área = 3019.07 m²\n"
     ]
    }
   ],
   "source": [
    "import math\n",
    "#Área = pi * raio²\n",
    "raio = float(input('Digite o raio: '))\n",
    "area = math.pi * (raio**2)      #math.pi traz o valor real de Pi    / ** funciona como elevado\n",
    "print(f'Raio = {raio} | Área = {area:.2f} m²')"
   ]
  },
  {
   "cell_type": "markdown",
   "metadata": {},
   "source": [
    "7. Faça um Programa que calcule a área de um quadrado, em seguida mostre o dobro desta área para o usuário."
   ]
  },
  {
   "cell_type": "code",
   "execution_count": 22,
   "metadata": {},
   "outputs": [
    {
     "name": "stdout",
     "output_type": "stream",
     "text": [
      "Lado mede: 15 m, sendo assim, a área do quadrado é: 225.0 m²\n",
      "O dobro desta área é: 450 m²\n"
     ]
    }
   ],
   "source": [
    "#Área = L²\n",
    "lado = int(input('Digite a metragem de um lado do quadrado: '))\n",
    "area = lado**2\n",
    "dobro = area*2\n",
    "print(f'Lado mede: {lado} m, sendo assim, a área do quadrado é: {area:.1f} m²')\n",
    "print(f'O dobro desta área é: {dobro} m²')"
   ]
  },
  {
   "cell_type": "markdown",
   "metadata": {},
   "source": [
    "8. Faça um Programa que pergunte quanto você ganha por hora e o número de horas trabalhadas no mês. Calcule e mostre o total do seu salário no referido mês."
   ]
  },
  {
   "cell_type": "code",
   "execution_count": 24,
   "metadata": {},
   "outputs": [
    {
     "name": "stdout",
     "output_type": "stream",
     "text": [
      "Calculadora do desespero:\n",
      "Após trabalhar 176 horas e receber R$ 6.0 por hora, você recebeu apenas R$ 1056.0\n",
      "Boa sorte, amigo!\n"
     ]
    }
   ],
   "source": [
    "print('Calculadora do desespero:')\n",
    "ganho_por_hora = float(input('Quanto você recebe por hora? R$ '))\n",
    "horas_trabalhadas = int(input('Horas trabalhadas no mês: '))\n",
    "salario = ganho_por_hora * horas_trabalhadas\n",
    "print(f'Após trabalhar {horas_trabalhadas} horas e receber R$ {ganho_por_hora} por hora, você recebeu apenas R$ {salario}')\n",
    "print('Boa sorte, amigo!')"
   ]
  },
  {
   "cell_type": "markdown",
   "metadata": {},
   "source": [
    "9. Faça um Programa que peça a temperatura em graus Fahrenheit, transforme e mostre a temperatura em graus Celsius.\n",
    "    C = 5 * ((F-32) / 9)."
   ]
  },
  {
   "cell_type": "code",
   "execution_count": 25,
   "metadata": {},
   "outputs": [
    {
     "name": "stdout",
     "output_type": "stream",
     "text": [
      "72.0ºF = 22.2°C\n"
     ]
    }
   ],
   "source": [
    "graus_f = float(input('Digite quantos graus Fahrenheit você deseja converter em Celsius: '))\n",
    "graus_c = 5 * ((graus_f - 32) / 9)\n",
    "print(f\"{graus_f}ºF = {graus_c:.1f}°C\")"
   ]
  },
  {
   "cell_type": "markdown",
   "metadata": {},
   "source": [
    "10. Faça um Programa que peça a temperatura em graus Celsius, transforme e mostre em graus Fahrenheit.\n",
    "    F = (C * 1.8) + 32"
   ]
  },
  {
   "cell_type": "code",
   "execution_count": 26,
   "metadata": {},
   "outputs": [
    {
     "name": "stdout",
     "output_type": "stream",
     "text": [
      "22.2ºF = 72.0°C\n"
     ]
    }
   ],
   "source": [
    "graus_c = float(input('Digite quantos graus Celsius você deseja converter em Fahrenheit: '))\n",
    "graus_f = (graus_c * 1.8) + 32\n",
    "print(f\"{graus_c}ºF = {graus_f:.1f}°C\")"
   ]
  },
  {
   "cell_type": "markdown",
   "metadata": {},
   "source": [
    "11. Faça um Programa que peça 2 números inteiros e um número real. Calcule e mostre:\n",
    "    a. o produto do dobro do primeiro com metade do segundo .\n",
    "    b. a soma do triplo do primeiro com o terceiro.\n",
    "    c. o terceiro elevado ao cubo."
   ]
  },
  {
   "cell_type": "code",
   "execution_count": 51,
   "metadata": {},
   "outputs": [
    {
     "name": "stdout",
     "output_type": "stream",
     "text": [
      "5 | 8 | 1.7\n"
     ]
    }
   ],
   "source": [
    "inteiro1 = int(input('Digite um número inteiro: '))\n",
    "inteiro2 = int(input('Digite outro número inteiro: '))\n",
    "real = float(input('Digite um número real: '))\n",
    "print(f'{inteiro1} | {inteiro2} | {real}')"
   ]
  },
  {
   "cell_type": "code",
   "execution_count": 52,
   "metadata": {},
   "outputs": [
    {
     "name": "stdout",
     "output_type": "stream",
     "text": [
      "O dobro do primeiro com metade do segundo = 14.00\n"
     ]
    }
   ],
   "source": [
    "#a\n",
    "resultado1 = (inteiro1*2) + (inteiro2/2)\n",
    "print(f'O dobro do primeiro com metade do segundo = {resultado1:.2f}')"
   ]
  },
  {
   "cell_type": "code",
   "execution_count": 53,
   "metadata": {},
   "outputs": [
    {
     "name": "stdout",
     "output_type": "stream",
     "text": [
      "A soma do triplo do primeiro com o terceiro = 16.70\n"
     ]
    }
   ],
   "source": [
    "#b\n",
    "resultado2 = (inteiro1*3) + real\n",
    "print(f'A soma do triplo do primeiro com o terceiro = {resultado2:.2f}')"
   ]
  },
  {
   "cell_type": "code",
   "execution_count": 54,
   "metadata": {},
   "outputs": [
    {
     "name": "stdout",
     "output_type": "stream",
     "text": [
      "O terceiro elevado ao cubo = 4.91\n"
     ]
    }
   ],
   "source": [
    "#c\n",
    "resultado3 = real**3\n",
    "print(f'O terceiro elevado ao cubo = {resultado3:.2f}')"
   ]
  },
  {
   "cell_type": "markdown",
   "metadata": {},
   "source": [
    "12. Tendo como dados de entrada a altura de uma pessoa, construa um algoritmo que calcule seu peso ideal, usando a seguinte fórmula: (72.7*altura) - 58"
   ]
  },
  {
   "cell_type": "code",
   "execution_count": 29,
   "metadata": {},
   "outputs": [
    {
     "name": "stdout",
     "output_type": "stream",
     "text": [
      "O peso ideal para a altura 1.7m é = 65.59 Kg\n"
     ]
    }
   ],
   "source": [
    "altura = float(input('Digite sua altura em metros: '))\n",
    "peso_ideal = (72.7*altura) - 58\n",
    "print(f'O peso ideal para a altura {altura}m é = {peso_ideal:.2f}Kg')"
   ]
  },
  {
   "cell_type": "markdown",
   "metadata": {},
   "source": [
    "13. Tendo como dado de entrada a altura (h) de uma pessoa, construa um algoritmo que calcule seu peso ideal, utilizando as seguintes fórmulas:\n",
    "    Para homens: (72.7*h) - 58\n",
    "    Para mulheres: (62.1*h) - 44.7"
   ]
  },
  {
   "cell_type": "code",
   "execution_count": 31,
   "metadata": {},
   "outputs": [
    {
     "name": "stdout",
     "output_type": "stream",
     "text": [
      "Vamos calcular seu peso ideal?\n",
      "Seu peso ideal como mulher, para sua altura 1.7m é = 60.87Kg\n"
     ]
    }
   ],
   "source": [
    "print('Vamos calcular seu peso ideal?')\n",
    "resposta = input('Qual seu gênero? M = Masculino | F = Feminino: ')\n",
    "h = float(input('Digite sua altura em metros: '))\n",
    "\n",
    "if resposta == 'M':\n",
    "    peso_ideal = (72.7*h) - 58\n",
    "    genero = 'homem'\n",
    "if resposta == 'F':\n",
    "    peso_ideal = (62.1*h) - 44.7\n",
    "    genero = 'mulher'\n",
    "\n",
    "print(f'Seu peso ideal como {genero}, para sua altura {h}m é = {peso_ideal:.2f}Kg') \n",
    "\n",
    "#resposta no exemplo como mulher"
   ]
  },
  {
   "cell_type": "code",
   "execution_count": 32,
   "metadata": {},
   "outputs": [
    {
     "name": "stdout",
     "output_type": "stream",
     "text": [
      "Seu peso ideal como homem, para sua altura 1.7m é = 65.59Kg\n"
     ]
    }
   ],
   "source": [
    "resposta = input('Qual seu gênero? M = Masculino | F = Feminino: ')\n",
    "h = float(input('Digite sua altura em metros: '))\n",
    "\n",
    "if resposta == 'M':\n",
    "    peso_ideal = (72.7*h) - 58\n",
    "    genero = 'homem'\n",
    "if resposta == 'F':\n",
    "    peso_ideal = (62.1*h) - 44.7\n",
    "    genero = 'mulher'\n",
    "\n",
    "print(f'Seu peso ideal como {genero}, para sua altura {h}m é = {peso_ideal:.2f}Kg')\n",
    "\n",
    "#resposta no exemplo como homem"
   ]
  },
  {
   "cell_type": "markdown",
   "metadata": {},
   "source": [
    "14. João Papo-de-Pescador, homem de bem, comprou um microcomputador para controlar o rendimento diário de seu trabalho. Toda vez que ele traz um peso de peixes maior que o estabelecido pelo regulamento de pesca do estado de São Paulo (50 quilos) deve pagar uma multa de R$ 4,00 por quilo excedente. João precisa que você faça um programa que leia a variável peso (peso de peixes) e calcule o excesso. Gravar na variável excesso a quantidade de quilos além do limite e na variável multa o valor da multa que João deverá pagar. Imprima os dados do programa com as mensagens adequadas."
   ]
  },
  {
   "cell_type": "code",
   "execution_count": 35,
   "metadata": {},
   "outputs": [
    {
     "name": "stdout",
     "output_type": "stream",
     "text": [
      "Calculadora de multa:\n",
      "Você trouxe 58.0 Kg de peixe. Deve pagar R$ 32.00 de multa!\n"
     ]
    }
   ],
   "source": [
    "print('Calculadora de multa:')\n",
    "peso = float(input('Digite quantos kg de peixe você trouxe: '))\n",
    "if peso > 50:\n",
    "    excesso = peso - 50\n",
    "    multa = excesso * 4.00\n",
    "    print(f'Você trouxe {peso} Kg de peixe. Deve pagar R$ {multa:.2f} de multa!')\n",
    "else:\n",
    "    print(f'Você trouxe {peso} Kg de peixe. Sem multas para você hoje!')\n",
    "    \n",
    "#exemplo passando dos quilos permitidos"
   ]
  },
  {
   "cell_type": "code",
   "execution_count": 36,
   "metadata": {},
   "outputs": [
    {
     "name": "stdout",
     "output_type": "stream",
     "text": [
      "Calculadora de multa:\n",
      "Você trouxe 45.0 Kg de peixe. Sem multas para você hoje!\n"
     ]
    }
   ],
   "source": [
    "print('Calculadora de multa:')\n",
    "peso = float(input('Digite quantos kg de peixe você trouxe: '))\n",
    "if peso > 50:\n",
    "    excesso = peso - 50\n",
    "    multa = excesso * 4.00\n",
    "    print(f'Você trouxe {peso} Kg de peixe. Deve pagar R$ {multa:.2f} de multa!')\n",
    "else:\n",
    "    print(f'Você trouxe {peso} Kg de peixe. Sem multas para você hoje!')\n",
    "    \n",
    "#exemplo de não passar do limite permitido"
   ]
  },
  {
   "cell_type": "markdown",
   "metadata": {},
   "source": [
    "15. Faça um Programa que pergunte quanto você ganha por hora e o número de horas trabalhadas no mês. Calcule e mostre o total do seu salário no referido mês, sabendo-se que são descontados 11% para o Imposto de Renda, 8% para o INSS e 5% para o sindicato, faça um programa que nos dê:\n",
    "    a. salário bruto.\n",
    "    b. quanto pagou ao INSS.\n",
    "    c. quanto pagou ao sindicato.\n",
    "    d. o salário líquido.\n",
    "    e. calcule os descontos e o salário líquido, conforme a tabela abaixo:\n",
    "        + Salário Bruto : R$\n",
    "        - IR (11%) : R$\n",
    "        - INSS (8%) : R$\n",
    "        - Sindicato ( 5%) : R$\n",
    "        = Salário Liquido : R$\n",
    "    Obs.: Salário Bruto - Descontos = Salário Líquido."
   ]
  },
  {
   "cell_type": "code",
   "execution_count": 56,
   "metadata": {},
   "outputs": [
    {
     "name": "stdout",
     "output_type": "stream",
     "text": [
      "Recebe R$6.0 | Trabalha 176 horas por mês\n"
     ]
    }
   ],
   "source": [
    "salario_por_hora = float(input('Digite o quanto você ganha por hora: R$ '))\n",
    "horas_por_mes = int(input('Digite quantas horas você trabalha no mês: '))\n",
    "print(f'Recebe R${salario_por_hora} | Trabalha {horas_por_mes} horas por mês')"
   ]
  },
  {
   "cell_type": "code",
   "execution_count": 57,
   "metadata": {},
   "outputs": [
    {
     "name": "stdout",
     "output_type": "stream",
     "text": [
      "Salário bruto: R$ 1056.00\n"
     ]
    }
   ],
   "source": [
    "#a. Salário bruto\n",
    "salario_bruto = salario_por_hora * horas_por_mes\n",
    "print(f'Salário bruto: R$ {salario_bruto:.2f}')"
   ]
  },
  {
   "cell_type": "code",
   "execution_count": 58,
   "metadata": {},
   "outputs": [
    {
     "name": "stdout",
     "output_type": "stream",
     "text": [
      "R$ 84.48 pago ao INSS.\n"
     ]
    }
   ],
   "source": [
    "#b. quanto pagou ao INSS\n",
    "desconto_inss = salario_bruto * 0.08\n",
    "print(f'R$ {desconto_inss:.2f} pago ao INSS.')"
   ]
  },
  {
   "cell_type": "code",
   "execution_count": 59,
   "metadata": {},
   "outputs": [
    {
     "name": "stdout",
     "output_type": "stream",
     "text": [
      "R$ 52.80 pago ao sindicato.\n"
     ]
    }
   ],
   "source": [
    "#c. quanto pagou ao sindicato\n",
    "desconto_sindicato = salario_bruto * 0.05\n",
    "print(f'R$ {desconto_sindicato:.2f} pago ao sindicato.')"
   ]
  },
  {
   "cell_type": "code",
   "execution_count": 60,
   "metadata": {},
   "outputs": [
    {
     "name": "stdout",
     "output_type": "stream",
     "text": [
      "Salário líquido: R$ 802.56\n"
     ]
    }
   ],
   "source": [
    "#d. o salário líquido\n",
    "imposto_renda = salario_bruto * 0.11\n",
    "salario_liquido = salario_bruto - imposto_renda - desconto_inss - desconto_sindicato\n",
    "print(f'Salário líquido: R$ {salario_liquido:.2f}')"
   ]
  },
  {
   "cell_type": "code",
   "execution_count": 61,
   "metadata": {},
   "outputs": [
    {
     "name": "stdout",
     "output_type": "stream",
     "text": [
      "+ Salário Bruto: R$ 1056.00\n",
      "- IR (11%): R$ 116.16\n",
      "- INSS (8%): R$ 84.48\n",
      "- Sindicado (5%): R$ 52.80\n",
      "= Salário líquido: R$ 802.56\n"
     ]
    }
   ],
   "source": [
    "#e. calcule os descontos e o salário líquido, conforme a tabela abaixo:\n",
    "#        + Salário Bruto : R$\n",
    "#        - IR (11%) : R$\n",
    "#        - INSS (8%) : R$\n",
    "#        - Sindicato ( 5%) : R$\n",
    "#        = Salário Liquido : R$\n",
    "\n",
    "print(f'+ Salário Bruto: R$ {salario_bruto:.2f}\\n'\n",
    "      + f'- IR (11%): R$ {imposto_renda:.2f}\\n'\n",
    "      + f'- INSS (8%): R$ {desconto_inss:.2f}\\n'\n",
    "      + f'- Sindicado (5%): R$ {desconto_sindicato:.2f}\\n'\n",
    "      + f'= Salário líquido: R$ {salario_liquido:.2f}')"
   ]
  },
  {
   "cell_type": "markdown",
   "metadata": {},
   "source": [
    "16. Faça um programa para uma loja de tintas. O programa deverá pedir o tamanho em metros quadrados da área a ser pintada. Considere que a cobertura da tinta é de 1 litro para cada 3 metros quadrados e que a tinta é vendida em latas de 18 litros, que custam R$ 80,00. Informe ao usuário a quantidades de latas de tinta a serem compradas e o preço total."
   ]
  },
  {
   "cell_type": "code",
   "execution_count": 112,
   "metadata": {},
   "outputs": [
    {
     "name": "stdout",
     "output_type": "stream",
     "text": [
      "Bem-vindo ao Tanta-Tinta Tanta-Casa!\n",
      "Para uma área de 200.0m² são necessárias 4 latas. Valor total: R$ 320.00\n"
     ]
    }
   ],
   "source": [
    "print('Bem-vindo ao Tanta-Tinta Tanta-Casa!')\n",
    "tamanho = float(input('Digite quantos metros quadrados da área a ser pintada: '))\n",
    "lata = 3 * 18       # calculando total de área que a lata cobre\n",
    "qtd_latas = tamanho / lata\n",
    "qtd_latas_arredondada = round(tamanho / lata)       # fazendo arredondamento para comparar o quanto sobrou\n",
    "if qtd_latas_arredondada > qtd_latas:               # se arredondou para cima, mantem o valor das arredondadas\n",
    "    qtd_latas = qtd_latas_arredondada\n",
    "else:                                               # se arredondou para baixo, soma-se 1 lata\n",
    "    qtd_latas += 1\n",
    "\n",
    "total = qtd_latas * 80      # valor da lata de tinta = 80\n",
    "print(f'Para uma área de {tamanho}m² são necessárias {qtd_latas} latas. '\n",
    "      + f'Valor total: R$ {total:.2f}')\n"
   ]
  },
  {
   "cell_type": "markdown",
   "metadata": {},
   "source": [
    "17. Faça um Programa para uma loja de tintas. O programa deverá pedir o tamanho em metros quadrados da área a ser pintada. Considere que a cobertura da tinta é de 1 litro para cada 6 metros quadrados e que a tinta é vendida em latas de 18 litros, que custam R$ 80,00 ou em galões de 3,6 litros, que custam R$ 25,00.\n",
    "    Informe ao usuário as quantidades de tinta a serem compradas e os respectivos preços em 3 situações:\n",
    "    a. comprar apenas latas de 18 litros;\n",
    "    b. comprar apenas galões de 3,6 litros;\n",
    "    c. misturar latas e galões, de forma que o desperdício de tinta seja menor. Acrescente 10% de folga e sempre arredonde os valores para cima, isto é, considere latas cheias."
   ]
  },
  {
   "cell_type": "code",
   "execution_count": 164,
   "metadata": {},
   "outputs": [
    {
     "name": "stdout",
     "output_type": "stream",
     "text": [
      "Bem-vindo ao Tinha-Tinta Tinha-Casa!\n",
      "Área a ser pintada: 745.0 m²\n"
     ]
    }
   ],
   "source": [
    "print('Bem-vindo ao Tinha-Tinta Tinha-Casa!')\n",
    "tamanho = float(input('Digite quantos metros quadrados da área a ser pintada: '))\n",
    "lata = 6 * 18       # calculando total de área que a lata cobre\n",
    "galao = 6 * 3.6     # calculando total de área que o galão cobre\n",
    "print(f'Área a ser pintada: {tamanho} m²')"
   ]
  },
  {
   "cell_type": "code",
   "execution_count": 165,
   "metadata": {},
   "outputs": [
    {
     "name": "stdout",
     "output_type": "stream",
     "text": [
      "Para uma área de 745.0m² são necessárias 7 latas. Valor total: R$ 560.00\n"
     ]
    }
   ],
   "source": [
    "#a. comprar apenas latas de 18 litros\n",
    "qtd_latas = tamanho / lata\n",
    "qtd_latas_arredondada = round(tamanho / lata)       # fazendo arredondamento para comparar o quanto sobrou\n",
    "if qtd_latas_arredondada > qtd_latas:               # se arredondou para cima, mantem o valor das arredondadas\n",
    "    qtd_latas = qtd_latas_arredondada\n",
    "else:                                               # se arredondou para baixo, soma-se 1 lata\n",
    "    qtd_latas += 1\n",
    "\n",
    "total = qtd_latas * 80      # valor da lata de tinta = 80\n",
    "print(f'Para uma área de {tamanho}m² são necessárias {qtd_latas} latas. '\n",
    "      + f'Valor total: R$ {total:.2f}')"
   ]
  },
  {
   "cell_type": "code",
   "execution_count": 166,
   "metadata": {},
   "outputs": [
    {
     "name": "stdout",
     "output_type": "stream",
     "text": [
      "Para uma área de 745.0m² são necessários 35 galões. Valor total: R$ 875.00\n"
     ]
    }
   ],
   "source": [
    "#b. comprar apenas latões de 3,6 litros\n",
    "qtd_galoes = tamanho / galao\n",
    "qtd_galoes_arredondado = round(tamanho / galao)       # fazendo arredondamento para comparar o quanto sobrou\n",
    "if qtd_galoes_arredondado > qtd_galoes:               # se arredondou para cima, mantem o valor das arredondadas\n",
    "    qtd_galoes = qtd_galoes_arredondado\n",
    "else:                                               # se arredondou para baixo, soma-se 1 galão\n",
    "    qtd_galoes += 1\n",
    "\n",
    "total = round(qtd_galoes) * 25\n",
    "print(f'Para uma área de {tamanho}m² são necessários {qtd_galoes:.0f} galões. '\n",
    "      + f'Valor total: R$ {total:.2f}')"
   ]
  },
  {
   "cell_type": "code",
   "execution_count": 168,
   "metadata": {},
   "outputs": [
    {
     "name": "stdout",
     "output_type": "stream",
     "text": [
      "A lata cobre 108.00 m² e o galão cobre 21.60 m²\n",
      "Para uma área de 745.0m² são necessários 6 latas e 5 galões. Valor total: R$ 605.00\n"
     ]
    }
   ],
   "source": [
    "# c. misturar latas e galões, de forma que o desperdício de tinta seja menor. Acrescente 10% de folga e sempre arredonde os valores para cima, \n",
    "# isto é, considere latas cheias.\n",
    "\n",
    "qtd_latas = tamanho / lata  #1.57 2.00\n",
    "qtd_latas_arredondada = round(tamanho / lata)       # fazendo arredondamento para comparar o quanto sobrou\n",
    "sobras = tamanho % lata                             # salvando a sobra\n",
    "\n",
    "if qtd_latas_arredondada > qtd_latas:               \n",
    "    qtd_latas = round(qtd_latas - (sobras*0.01))\n",
    "else:                                               \n",
    "    qtd_latas = qtd_latas_arredondada\n",
    "\n",
    "qtd_galoes = sobras / galao\n",
    "qtd_galoes_arredondado = round(sobras / galao)       \n",
    "if qtd_galoes_arredondado > qtd_galoes:             \n",
    "    qtd_galoes = qtd_galoes_arredondado\n",
    "else:                                               # se arredondou para baixo, soma-se 1 galão\n",
    "    qtd_galoes = round(qtd_galoes + 1)\n",
    "\n",
    "total = (qtd_latas * 80) + (qtd_galoes * 25)\n",
    "\n",
    "print(f'A lata cobre {lata:.2f} m² e o galão cobre {galao:.2f} m²')\n",
    "print(f'Para uma área de {tamanho}m² são necessários {qtd_latas} latas e {qtd_galoes} galões. '\n",
    "      + f'Valor total: R$ {total:.2f}')"
   ]
  },
  {
   "cell_type": "markdown",
   "metadata": {},
   "source": [
    "18. Faça um programa que peça o tamanho de um arquivo para download (em MB) e a velocidade de um link de Internet (em Mbps), calcule e informe o tempo aproximado de download do arquivo usando este link (em minutos)."
   ]
  },
  {
   "cell_type": "code",
   "execution_count": 173,
   "metadata": {},
   "outputs": [
    {
     "name": "stdout",
     "output_type": "stream",
     "text": [
      "Arquivo: 2000.0 MB | Velocidade da Internet: 50.0 Mbps\n",
      "Seu download levará 5.0 minutos e 20.0 segundos.\n"
     ]
    }
   ],
   "source": [
    "tamanho_arquivo = float(input('Qual o tamanho do arquivo para baixar (em MB)? '))\n",
    "velocidade_internet = float(input('Qual a velocidade de sua internet (em Mbps)? '))\n",
    "# 1 MB = 8 mb\n",
    "\n",
    "tamanho_mb = tamanho_arquivo * 8\n",
    "tempo_segundos = tamanho_mb / velocidade_internet\n",
    "\n",
    "print(f'Arquivo: {tamanho_arquivo} MB | Velocidade da Internet: {velocidade_internet} Mbps')\n",
    "\n",
    "if tempo_segundos % 60 == 0:\n",
    "    minutos = tempo_segundos / 60\n",
    "    print(f'Seu download levará {minutos} minutos para terminar.')\n",
    "else:\n",
    "    minutos = tempo_segundos // 60\n",
    "    segundos = tempo_segundos % 60\n",
    "    print(f'Seu download levará {minutos} minutos e {segundos} segundos.')\n"
   ]
  }
 ],
 "metadata": {
  "kernelspec": {
   "display_name": "Python 3",
   "language": "python",
   "name": "python3"
  },
  "language_info": {
   "codemirror_mode": {
    "name": "ipython",
    "version": 3
   },
   "file_extension": ".py",
   "mimetype": "text/x-python",
   "name": "python",
   "nbconvert_exporter": "python",
   "pygments_lexer": "ipython3",
   "version": "3.12.3"
  }
 },
 "nbformat": 4,
 "nbformat_minor": 2
}
