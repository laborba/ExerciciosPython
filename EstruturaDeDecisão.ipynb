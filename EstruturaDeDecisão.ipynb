{
 "cells": [
  {
   "cell_type": "markdown",
   "metadata": {},
   "source": [
    "Exercícios de Fixação - Estrutura de Decisão"
   ]
  },
  {
   "cell_type": "markdown",
   "metadata": {},
   "source": [
    "1. Faça um Programa que peça dois números e imprima o maior deles."
   ]
  },
  {
   "cell_type": "code",
   "execution_count": 11,
   "metadata": {},
   "outputs": [
    {
     "name": "stdout",
     "output_type": "stream",
     "text": [
      "N1: 15.0 | N2: 268.0\n",
      "Maior número: 268.0, menor número: 15.0.\n"
     ]
    }
   ],
   "source": [
    "n1 = float(input('Primeiro número: '))\n",
    "n2 = float(input('Segundo número: '))\n",
    "print(f'N1: {n1} | N2: {n2}')\n",
    "if n1 > n2:\n",
    "    print(f'Maior número: {n1}, menor número: {n2}.')\n",
    "elif n2 > n1:\n",
    "    print(f'Maior número: {n2}, menor número: {n1}.')\n",
    "else:\n",
    "    print(f'{n1} e {n2} são iguais.')"
   ]
  },
  {
   "cell_type": "markdown",
   "metadata": {},
   "source": [
    "2. Faça um Programa que peça um valor e mostre na tela se o valor é positivo ou negativo."
   ]
  },
  {
   "cell_type": "code",
   "execution_count": 6,
   "metadata": {},
   "outputs": [
    {
     "name": "stdout",
     "output_type": "stream",
     "text": [
      "Número 15 é positivo.\n"
     ]
    }
   ],
   "source": [
    "#tentando positivo\n",
    "n1 = float(input('Digite um número inteiro: '))\n",
    "if n1 > 0:\n",
    "    print(f'Número {n1} é positivo.')\n",
    "elif n1 < 0:\n",
    "    print(f'Número {n1} é negativo.')\n",
    "else:\n",
    "    print(f'Número {n1} é neutro.')"
   ]
  },
  {
   "cell_type": "code",
   "execution_count": 9,
   "metadata": {},
   "outputs": [
    {
     "name": "stdout",
     "output_type": "stream",
     "text": [
      "Número -258.0 é negativo.\n"
     ]
    }
   ],
   "source": [
    "#tentando negativo\n",
    "n1 = float(input('Digite um número inteiro: '))\n",
    "if n1 > 0:\n",
    "    print(f'Número {n1} é positivo.')\n",
    "elif n1 < 0:\n",
    "    print(f'Número {n1} é negativo.')\n",
    "else:\n",
    "    print(f'Número {n1} é neutro.')"
   ]
  },
  {
   "cell_type": "markdown",
   "metadata": {},
   "source": [
    "3. Faça um Programa que verifique se uma letra digitada é \"F\" ou \"M\". Conforme a letra escrever: F - Feminino, M - Masculino, Sexo Inválido."
   ]
  },
  {
   "cell_type": "code",
   "execution_count": 32,
   "metadata": {},
   "outputs": [
    {
     "name": "stdout",
     "output_type": "stream",
     "text": [
      "Você escreveu \"M\".\n",
      "Sexo masculino selecionado.\n"
     ]
    }
   ],
   "source": [
    "#testando masculino\n",
    "genero = input('Digite seu sexo (M ou F): ')\n",
    "print(f'Você escreveu \"{genero}\".')\n",
    "if genero == 'M':\n",
    "    print('Sexo masculino selecionado.')\n",
    "elif genero == 'F':\n",
    "    print('Sexo feminino selecionado.')\n",
    "else:\n",
    "    print('Sexo inválido.')"
   ]
  },
  {
   "cell_type": "code",
   "execution_count": 33,
   "metadata": {},
   "outputs": [
    {
     "name": "stdout",
     "output_type": "stream",
     "text": [
      "Você escreveu \"F\".\n",
      "Sexo feminino selecionado.\n"
     ]
    }
   ],
   "source": [
    "#testando feminino\n",
    "genero = input('Digite seu sexo (M ou F): ')\n",
    "print(f'Você escreveu \"{genero}\".')\n",
    "if genero == 'M':\n",
    "    print('Sexo masculino selecionado.')\n",
    "elif genero == 'F':\n",
    "    print('Sexo feminino selecionado.')\n",
    "else:\n",
    "    print('Sexo inválido.')"
   ]
  },
  {
   "cell_type": "markdown",
   "metadata": {},
   "source": [
    "4. Faça um Programa que verifique se uma letra digitada é vogal ou consoante."
   ]
  },
  {
   "cell_type": "code",
   "execution_count": 37,
   "metadata": {},
   "outputs": [
    {
     "name": "stdout",
     "output_type": "stream",
     "text": [
      "Letra \"i\" digitada.\n",
      "Esta letra é uma vogal.\n"
     ]
    }
   ],
   "source": [
    "letra = input('Digite uma letra: ')\n",
    "print(f'Letra \"{letra}\" digitada.')\n",
    "if letra == 'a' or letra == 'e' or letra == 'i' or letra == 'o' or letra == 'u':  #uso do 'or' para mais de uma possivel imposição\n",
    "    print('Esta letra é uma vogal.')\n",
    "else:\n",
    "    print('Esta letra é uma consoante.')"
   ]
  },
  {
   "cell_type": "markdown",
   "metadata": {},
   "source": [
    "5. Faça um programa para a leitura de duas notas parciais de um aluno. O programa deve calcular a média alcançada por aluno e apresentar:\n",
    "    - A mensagem \"Aprovado\", se a média alcançada for maior ou igual a sete;\n",
    "    - A mensagem \"Reprovado\", se a média for menor do que sete;\n",
    "    - A mensagem \"Aprovado com Distinção\", se a média for igual a dez."
   ]
  },
  {
   "cell_type": "code",
   "execution_count": 45,
   "metadata": {},
   "outputs": [
    {
     "name": "stdout",
     "output_type": "stream",
     "text": [
      "N1: 10.0 | N2: 10.0\n",
      "Aprovado com Distinção, média final: 10.0\n"
     ]
    }
   ],
   "source": [
    "n1 = float(input('Digite a primeira nota (0 a 10): '))\n",
    "n2 = float(input('Digite a segunda nota (0 a 10): '))\n",
    "media = (n1 + n2) / 2\n",
    "print(f'N1: {n1} | N2: {n2}')\n",
    "if media == 10:\n",
    "    print(f'Aprovado com Distinção, média final: {media}')\n",
    "elif media >= 7:\n",
    "    print(f'Aprovado, média final: {media}.')\n",
    "else:\n",
    "    print(f'Reprovado, média final: {media}.')"
   ]
  },
  {
   "cell_type": "markdown",
   "metadata": {},
   "source": [
    "6. Faça um Programa que leia três números e mostre o maior deles."
   ]
  },
  {
   "cell_type": "code",
   "execution_count": 49,
   "metadata": {},
   "outputs": [
    {
     "name": "stdout",
     "output_type": "stream",
     "text": [
      "N1: 2.0 | N2: 15.0 | N3: 4.0\n",
      "Maior número: 15.0.\n"
     ]
    }
   ],
   "source": [
    "n1 = float(input('Primeiro número: '))\n",
    "n2 = float(input('Segundo número: '))\n",
    "n3 = float(input('Terceiro número: '))\n",
    "print(f'N1: {n1} | N2: {n2} | N3: {n3}')\n",
    "\n",
    "if n1 > n2 and n1 > n3:     #uso do 'and' para mais de uma imposição\n",
    "    print(f'Maior número: {n1}.')\n",
    "elif n2 > n1 and n2 > n3:\n",
    "    print(f'Maior número: {n2}.')\n",
    "else:\n",
    "    print(f'Maior número: {n3}.')"
   ]
  },
  {
   "cell_type": "markdown",
   "metadata": {},
   "source": [
    "7. Faça um Programa que leia três números e mostre o maior e o menor deles."
   ]
  },
  {
   "cell_type": "code",
   "execution_count": 51,
   "metadata": {},
   "outputs": [
    {
     "name": "stdout",
     "output_type": "stream",
     "text": [
      "N1: 4 | N2: 2 | N3: 8\n",
      "O Maior número é 8\n",
      "O Menor número é 2\n"
     ]
    }
   ],
   "source": [
    "lista = [int(input(f'Digite o {item + 1}° Número: ')) for item in range(3)]     #utilizando lista para facilitar o código\n",
    "print (f'N1: {lista[0]} | N2: {lista[1]} | N3: {lista[2]}')\n",
    "print(f'O Maior número é {max(lista)}')\n",
    "print(f'O Menor número é {min(lista)}')"
   ]
  },
  {
   "cell_type": "markdown",
   "metadata": {},
   "source": [
    "8. Faça um programa que pergunte o preço de três produtos e informe qual produto você deve comprar, sabendo que a decisão é sempre pelo mais barato."
   ]
  },
  {
   "cell_type": "code",
   "execution_count": 53,
   "metadata": {},
   "outputs": [
    {
     "name": "stdout",
     "output_type": "stream",
     "text": [
      "1º produto: R$ 24.5 | 2º produto: R$ 45.1 | 3º produto: R$ 20.5\n",
      "Recomenda-se que você compre o produto de valor R$ 20.50.\n"
     ]
    }
   ],
   "source": [
    "preco = [float(input(f'Digite o {item + 1}º valor: ')) for item in range(3)]\n",
    "print(f'1º produto: R$ {preco[0]} | 2º produto: R$ {preco[1]} | 3º produto: R$ {preco[2]}')\n",
    "print(f'Recomenda-se que você compre o produto de valor R$ {min(preco):.2f}.')"
   ]
  },
  {
   "cell_type": "markdown",
   "metadata": {},
   "source": [
    "9. Faça um Programa que leia três números e mostre-os em ordem decrescente."
   ]
  },
  {
   "cell_type": "code",
   "execution_count": 56,
   "metadata": {},
   "outputs": [
    {
     "name": "stdout",
     "output_type": "stream",
     "text": [
      "Números digitados: [4, 2, 8]\n",
      "Ordem decrescente: [8, 4, 2]\n"
     ]
    }
   ],
   "source": [
    "numeros = [int(input(f'Digite o {item + 1}° Número: ')) for item in range(3)]\n",
    "print(f'Números digitados: {numeros}')\n",
    "numeros.sort(reverse=True)              #comando para tornar a lista em forma decrescente\n",
    "print(f'Ordem decrescente: {numeros}')"
   ]
  },
  {
   "cell_type": "markdown",
   "metadata": {},
   "source": [
    "10. Faça um Programa que pergunte em que turno você estuda. Peça para digitar M-matutino ou V-Vespertino ou N- Noturno. Imprima a mensagem \"Bom Dia!\", \"Boa Tarde!\" ou \"Boa Noite!\" ou \"Valor Inválido!\", conforme o caso."
   ]
  },
  {
   "cell_type": "code",
   "execution_count": 61,
   "metadata": {},
   "outputs": [
    {
     "name": "stdout",
     "output_type": "stream",
     "text": [
      "Turno escolhido: N\n",
      "Boa noite!!\n"
     ]
    }
   ],
   "source": [
    "turno = input('Em qual turno você estuda?\\n(M-Matutino | V-Vespertino | N-Noturno)')\n",
    "print(f'Turno escolhido: {turno}')\n",
    "if turno == 'M':\n",
    "    print('Bom dia!!')\n",
    "elif turno == 'V':\n",
    "    print('Boa tarde!!')\n",
    "elif turno == 'N':\n",
    "    print('Boa noite!!')\n",
    "else:\n",
    "    print('Valor inválido!')"
   ]
  },
  {
   "cell_type": "markdown",
   "metadata": {},
   "source": [
    "11. As Organizações Tabajara resolveram dar um aumento de salário aos seus colaboradores e lhe contraram para desenvolver o programa que calculará os reajustes.\n",
    "    Faça um programa que recebe o salário de um colaborador e o reajuste segundo o seguinte critério, baseado no salário atual:\n",
    "    - salários até R$ 280,00 (incluindo) : aumento de 20%\n",
    "    - salários entre R$ 280,00 e R$ 700,00 : aumento de 15%\n",
    "    - salários entre R$ 700,00 e R$ 1500,00 : aumento de 10%\n",
    "    - salários de R$ 1500,00 em diante : aumento de 5% Após o aumento ser realizado, informe na tela:\n",
    "    - o salário antes do reajuste;\n",
    "    - o percentual de aumento aplicado;\n",
    "    - o valor do aumento;\n",
    "    - o novo salário, após o aumento."
   ]
  },
  {
   "cell_type": "code",
   "execution_count": 66,
   "metadata": {},
   "outputs": [
    {
     "name": "stdout",
     "output_type": "stream",
     "text": [
      "Salario inicial: R$ 485.00\n",
      "Percentual de aumento: 15%\n",
      "Valor do aumento: R$ 72.75\n",
      "Novo salário: R$ 557.75\n"
     ]
    }
   ],
   "source": [
    "salario_inicial = float(input('Digite o salário inicial: '))\n",
    "\n",
    "if salario_inicial <= 280:\n",
    "    percentual = 0.20\n",
    "elif salario_inicial < 700:\n",
    "    percentual = 0.15\n",
    "elif salario_inicial < 1500:\n",
    "    percentual = 0.10\n",
    "elif salario_inicial >= 1500:\n",
    "    percentual = 0.05\n",
    "\n",
    "aumento = salario_inicial * percentual\n",
    "salario_final = salario_inicial + aumento\n",
    "percentual = percentual * 100\n",
    "\n",
    "print(f'Salario inicial: R$ {salario_inicial:.2f}')\n",
    "print(f'Percentual de aumento: {percentual:.0f}%')\n",
    "print(f'Valor do aumento: R$ {aumento:.2f}')\n",
    "print(f'Novo salário: R$ {salario_final:.2f}')"
   ]
  },
  {
   "cell_type": "markdown",
   "metadata": {},
   "source": [
    "12. Faça um programa para o cálculo de uma folha de pagamento, sabendo que os descontos são do Imposto de Renda, que depende do salário bruto (conforme tabela abaixo) e 3% para o Sindicato e que o FGTS corresponde a 11% do Salário Bruto, mas não é descontado (é a empresa que deposita). O Salário Líquido corresponde ao Salário Bruto menos os descontos. O programa deverá pedir ao usuário o valor da sua hora e a quantidade de horas trabalhadas no mês.\n",
    "    Desconto do IR:\n",
    "    - Salário Bruto até 900 (inclusive) - isento\n",
    "    - Salário Bruto até 1500 (inclusive) - desconto de 5%\n",
    "    - Salário Bruto até 2500 (inclusive) - desconto de 10%\n",
    "    - Salário Bruto acima de 2500 - desconto de 20% \n",
    "    \n",
    "    Imprima na tela as informações, dispostas conforme o exemplo abaixo. No exemplo o valor da hora é 5 e a quantidade de hora é 220.\n",
    "    - Salário Bruto: (5 * 220)        : R$ 1100,00\n",
    "    - (-) IR (5%)                     : R$   55,00\n",
    "    - (-) INSS ( 10%)                 : R$  110,00\n",
    "    - FGTS (11%)                      : R$  121,00\n",
    "    - Total de descontos              : R$  165,00\n",
    "    - Salário Liquido                 : R$  935,00"
   ]
  },
  {
   "cell_type": "code",
   "execution_count": 9,
   "metadata": {},
   "outputs": [
    {
     "name": "stdout",
     "output_type": "stream",
     "text": [
      "Salário Bruto: (10.0 * 176): R$ 1760.00\n",
      "(-) IR (10%): R$ 176.00\n",
      "(-) INSS (3%): R$ 52.80\n",
      "FGTS (11%): R$ 193.60\n",
      "Total de descontos: R$ 228.80\n",
      "salário Líquido: R$ 1531.20\n"
     ]
    }
   ],
   "source": [
    "valor_horas = float(input('Quanto você recebe por hora trabalhada? R$ '))\n",
    "horas_trabalhadas = int(input('Quantas horas vocês trabalha no mês: '))\n",
    "salario_bruto = valor_horas * horas_trabalhadas\n",
    "\n",
    "if salario_bruto <= 900:\n",
    "    imposto = 0\n",
    "elif salario_bruto <= 1500:\n",
    "    imposto = 0.05\n",
    "elif salario_bruto <= 2500:\n",
    "    imposto = 0.10\n",
    "elif salario_bruto > 2500:\n",
    "    imposto = 0.20\n",
    "\n",
    "ir = salario_bruto * imposto\n",
    "inss = salario_bruto * 0.03\n",
    "fgts = salario_bruto * 0.11\n",
    "descontos = ir + inss\n",
    "salario_liquido = salario_bruto - descontos\n",
    "\n",
    "print(f'Salário Bruto: ({valor_horas:.1f} * {horas_trabalhadas}): R$ {salario_bruto:.2f}\\n' \n",
    "      + f'(-) IR ({(imposto * 100):.0f}%): R$ {ir:.2f}\\n' \n",
    "      + f'(-) INSS (3%): R$ {inss:.2f}\\n'\n",
    "      + f'FGTS (11%): R$ {fgts:.2f}\\n'\n",
    "      + f'Total de descontos: R$ {descontos:.2f}\\n'\n",
    "      + f'salário Líquido: R$ {salario_liquido:.2f}')\n"
   ]
  },
  {
   "cell_type": "markdown",
   "metadata": {},
   "source": [
    "13. Faça um Programa que leia um número e exiba o dia correspondente da semana. (1-Domingo, 2- Segunda, etc.), se digitar outro valor deve aparecer valor inválido."
   ]
  },
  {
   "cell_type": "code",
   "execution_count": 29,
   "metadata": {},
   "outputs": [
    {
     "name": "stdout",
     "output_type": "stream",
     "text": [
      "Você digitou: 7\n",
      "Dia da semana: Sábado\n"
     ]
    }
   ],
   "source": [
    "numero = int(input('Digite um número (1 a 7): '))\n",
    "lista = ['Domingo', 'Segunda-feira', 'Terça-feira', 'Quarta-feira', 'Quinta-feira', 'Sexta-feira', 'Sábado' ]\n",
    "\n",
    "if numero > 0 and numero < 8 :\n",
    "    print(f'Você digitou: {numero}')\n",
    "    print(f'Dia da semana: {lista[numero-1]}')      # corrigindo o número (pois uma lista começa com o número 0)\n",
    "else:\n",
    "    print('Valor inválido.')"
   ]
  },
  {
   "cell_type": "markdown",
   "metadata": {},
   "source": [
    "14. Faça um programa que lê as duas notas parciais obtidas por um aluno numa disciplina ao longo de um semestre, e calcule a sua média. A atribuição de conceitos obedece à tabela abaixo:\n",
    "- Média de Aproveitamento - - - Conceito\n",
    "    - Entre 9.0 e 10.0 - - - - - A\n",
    "    - Entre 7.5 e 9.0 - - - - - - B\n",
    "    - Entre 6.0 e 7.5 - - - - - - C\n",
    "    - Entre 4.0 e 6.0 - - - - - - D\n",
    "    - Entre 4.0 e zero - - - - - E\n",
    "\n",
    "    O algoritmo deve mostrar na tela as notas, a média, o conceito correspondente e a mensagem “APROVADO” se o conceito for A, B ou C ou “REPROVADO” se o conceito for D ou E."
   ]
  },
  {
   "cell_type": "code",
   "execution_count": 42,
   "metadata": {},
   "outputs": [
    {
     "name": "stdout",
     "output_type": "stream",
     "text": [
      "Notas do Aluno: 7.5 | 5.5\n",
      "Média do Aluno: 6.5\n",
      "Aluno nota C | Resultado: APROVADO!\n"
     ]
    }
   ],
   "source": [
    "notas = [float(input(f'Digite a {i + 1}º nota: ')) for i in range(2)]\n",
    "media = sum(notas)/len(notas)\n",
    "\n",
    "if media <= 10 and media > 9:\n",
    "    conceito = 'A'\n",
    "elif media > 7.5:\n",
    "    conceito = 'B'\n",
    "elif media > 6:\n",
    "    conceito = 'C'\n",
    "elif media > 4:\n",
    "    conceito = 'D'\n",
    "else:\n",
    "    conceito = 'E'\n",
    "\n",
    "if conceito == 'A' or conceito == 'B' or conceito == 'C':\n",
    "    resultado = 'APROVADO!'\n",
    "else:\n",
    "    resultado = 'REPROVADO!'\n",
    "\n",
    "print(f'Notas do Aluno: {notas[0]} | {notas[1]}')\n",
    "print(f'Média do Aluno: {media:.1f}')\n",
    "print(f'Aluno nota {conceito} | Resultado: {resultado}')"
   ]
  },
  {
   "cell_type": "markdown",
   "metadata": {},
   "source": [
    "15. Faça um Programa que peça os 3 lados de um triângulo. O programa deverá informar se os valores podem ser um triângulo. Indique, caso os lados formem um triângulo, se o mesmo é: equilátero, isósceles ou escaleno.\n",
    "- Dicas:\n",
    "    - Três lados formam um triângulo quando a soma de quaisquer dois lados for maior que o terceiro;\n",
    "    - Triângulo Equilátero: três lados iguais;\n",
    "    - Triângulo Isósceles: quaisquer dois lados iguais;\n",
    "    - Triângulo Escaleno: três lados diferentes;"
   ]
  },
  {
   "cell_type": "code",
   "execution_count": 12,
   "metadata": {},
   "outputs": [
    {
     "name": "stdout",
     "output_type": "stream",
     "text": [
      "Valores passados: 5.5 | 5.5 | 10.0\n",
      "Os valores passados representam um triângulo!\n",
      "É um triângulo isósceles: quaisquer dois lados iguais.\n"
     ]
    }
   ],
   "source": [
    "lado_A = float(input('Digite o valor do lado A: '))\n",
    "lado_B = float(input('Digite o valor do lado B: '))\n",
    "lado_C = float(input('Digite o valor do lado C: '))\n",
    "\n",
    "lados_AeB = lado_A + lado_B\n",
    "lados_AeC = lado_A + lado_C\n",
    "lados_BeC = lado_B + lado_C\n",
    "\n",
    "print(f'Valores passados: {lado_A:.1f} | {lado_B:.1f} | {lado_C:.1f}')\n",
    "\n",
    "if lado_A > 0 and lado_B > 0 and lado_C > 0:                            #Triangulos possuem números não-negativos e maior que 0\n",
    "    if lados_AeB > lado_C and lados_AeC > lado_B and lados_BeC > lado_A:\n",
    "        print('Os valores passados representam um triângulo!')\n",
    "        if lado_A == lado_B and lado_B == lado_C:\n",
    "            print('É um triângulo equilátero: três lados iguais.')\n",
    "        if lado_A == lado_B or lado_A == lado_C or lado_B == lado_C:\n",
    "            print('É um triângulo isósceles: quaisquer dois lados iguais.')\n",
    "        else:\n",
    "            print('É um triângulo escaleno: três lados diferentes.')\n",
    "    else:\n",
    "        print(f'Valores não correspondentes à um triãngulo!')\n",
    "else:\n",
    "    print('Os valores de um triângulo devem sempre ser positivos e maior que zero!')"
   ]
  },
  {
   "cell_type": "markdown",
   "metadata": {},
   "source": [
    "16. Faça um programa que calcule as raízes de uma equação do segundo grau, na forma ax2 + bx + c. O programa deverá pedir os valores de a, b e c e fazer as consistências, informando ao usuário nas seguintes situações:\n",
    "    - Se o usuário informar o valor de A igual a zero, a equação não é do segundo grau e o programa não deve fazer pedir os demais valores, sendo encerrado;\n",
    "    - Se o delta calculado for negativo, a equação não possui raizes reais. Informe ao usuário e encerre o programa;\n",
    "    - Se o delta calculado for igual a zero a equação possui apenas uma raiz real; informe-a ao usuário;\n",
    "    - Se o delta for positivo, a equação possui duas raiz reais; informe-as ao usuário;"
   ]
  },
  {
   "cell_type": "code",
   "execution_count": 20,
   "metadata": {},
   "outputs": [
    {
     "name": "stdout",
     "output_type": "stream",
     "text": [
      "Função:\n",
      "y = ax²+bx+c\n",
      "\n",
      "Substituindo... y = 0\n",
      "1x²+-5x²+6 = 0\n",
      "\n",
      "Bhaskara:\n",
      "x = -b ± √Δ\n",
      "      2 * a\n",
      "\n",
      "Delta = 1, sendo assim possui duas raizes reais.\n",
      "S(3,2)\n"
     ]
    }
   ],
   "source": [
    "import math\n",
    "\n",
    "a = int(input('Digite o valor de \"a\": '))\n",
    "if a == 0:\n",
    "    print('Valor de \"a\" = 0. A equação não é de segundo grau.')\n",
    "else:\n",
    "    b = int(input('Digite o valor de \"b\": '))\n",
    "    c = int(input('Digite o valor de \"c\": '))\n",
    "    print('Função:\\ny = ax²+bx+c\\n\\nSubstituindo... y = 0')\n",
    "    print(f'{a}x²+{b}x²+{c} = 0\\n')\n",
    "\n",
    "    print('Bhaskara:\\nx = -b ± √Δ')\n",
    "    print('      2 * a\\n')\n",
    "\n",
    "    delta = b**2 - (4 * a * c)      #** serve para elevar um numero a um expoente\n",
    "\n",
    "    if delta < 0:\n",
    "        print(f'Delta = {delta}, sendo assim a equação não possui raizes reais.')\n",
    "    elif delta == 0:\n",
    "        x = -b / (2*a)\n",
    "        print(f'Delta = {delta}, sendo assim a equação possui apenas uma raiz real.')\n",
    "        print(f'Raiz real: S({x})')\n",
    "    else:\n",
    "        x1 = (-b + math.sqrt(delta)) / (2 * a)      #math.sqrt calcula a raiz\n",
    "        x2 = (-b - math.sqrt(delta)) / (2 * a)\n",
    "        print(f'Delta = {delta}, sendo assim possui duas raizes reais.')\n",
    "        print(f'S({x1:.0f},{x2:.0f})')\n",
    "\n"
   ]
  },
  {
   "cell_type": "markdown",
   "metadata": {},
   "source": [
    "17. Faça um Programa que peça um número correspondente a um determinado ano e em seguida informe se este ano é ou não bissexto."
   ]
  },
  {
   "cell_type": "code",
   "execution_count": 25,
   "metadata": {},
   "outputs": [
    {
     "name": "stdout",
     "output_type": "stream",
     "text": [
      "2024 é um ano bissexto!\n"
     ]
    }
   ],
   "source": [
    "## Regras = divisivel por 4 = ano bissexto / divisivel por 100 = não bissexto / divisivel por 400 = ano bissexto\n",
    "def ano_bissexto(ano):\n",
    "    if ano % 4 == 0:\n",
    "        if ano % 100 == 0:\n",
    "            if ano % 400 == 0:\n",
    "                return True\n",
    "            else:\n",
    "                return False\n",
    "        else:\n",
    "            return True\n",
    "    else:\n",
    "        return False\n",
    "    \n",
    "ano = int(input('Digite um ano de seu interesse: '))\n",
    "if ano_bissexto(ano):\n",
    "    print(f'{ano} é um ano bissexto!') \n",
    "else:\n",
    "    print(f'{ano} não é um ano bissexto!')\n"
   ]
  },
  {
   "cell_type": "markdown",
   "metadata": {},
   "source": [
    "18. Faça um Programa que peça uma data no formato dd/mm/aaaa e determine se a mesma é uma data válida."
   ]
  },
  {
   "cell_type": "code",
   "execution_count": 28,
   "metadata": {},
   "outputs": [
    {
     "name": "stdout",
     "output_type": "stream",
     "text": [
      "\n",
      "Insira a data no formato correto!\n",
      "A data inserida é válida! 1/5/2000\n"
     ]
    }
   ],
   "source": [
    "import datetime\n",
    "\n",
    "while True:\n",
    "    data = input('Digite uma data (dd/mm/aaaa): ')\n",
    "    if data.count('/')!= 2:\n",
    "        print('\\nInsira a data no formato correto!')\n",
    "    else:\n",
    "        data = data.split('/')\n",
    "        try:\n",
    "            dia = int(data[0])\n",
    "            mes = int(data[1])\n",
    "            ano = int(data[2])\n",
    "            break\n",
    "        except:\n",
    "            print('Digite números, por favor!')\n",
    "\n",
    "try:\n",
    "    validacao = datetime.datetime(ano, mes, dia)\n",
    "    print(f'A data inserida é válida! {dia}/{mes}/{ano}')\n",
    "except:\n",
    "    print('A data é inválida.')"
   ]
  },
  {
   "cell_type": "markdown",
   "metadata": {},
   "source": [
    "19. Faça um Programa que leia um número inteiro menor que 1000 e imprima a quantidade de centenas, dezenas e unidades do mesmo.\n",
    "Observando os termos no plural a colocação do \"e\", da vírgula entre outros. Exemplo:\n",
    "- 326 = 3 centenas, 2 dezenas e 6 unidades\n",
    "- 12 = 1 dezena e 2 unidades \n",
    "- Testar com: 326, 300, 100, 320, 310,305, 301, 101, 311, 111, 25, 20, 10, 21, 11, 1, 7 e 16"
   ]
  },
  {
   "cell_type": "code",
   "execution_count": 33,
   "metadata": {},
   "outputs": [
    {
     "name": "stdout",
     "output_type": "stream",
     "text": [
      "326 = 3 centenas, 2 dezenas e 6 unidades.\n",
      "300 = 3 centenas, 0 dezenas e 0 unidades.\n",
      "100 = 1 centenas, 0 dezenas e 0 unidades.\n",
      "320 = 3 centenas, 2 dezenas e 0 unidades.\n",
      "310 = 3 centenas, 1 dezenas e 0 unidades.\n",
      "305 = 3 centenas, 0 dezenas e 5 unidades.\n",
      "301 = 3 centenas, 0 dezenas e 1 unidades.\n",
      "101 = 1 centenas, 0 dezenas e 1 unidades.\n",
      "311 = 3 centenas, 1 dezenas e 1 unidades.\n",
      "111 = 1 centenas, 1 dezenas e 1 unidades.\n",
      "25 = 2 dezenas e 5 unidades.\n",
      "20 = 2 dezenas e 0 unidades.\n",
      "10 = 1 dezenas e 0 unidades.\n",
      "21 = 2 dezenas e 1 unidades.\n",
      "11 = 1 dezenas e 1 unidades.\n",
      "1 = 1 unidades.\n",
      "7 = 7 unidades.\n",
      "16 = 1 dezenas e 6 unidades.\n"
     ]
    }
   ],
   "source": [
    "while True:\n",
    "    numero = int(input('Digite um número menor que 1000: '))\n",
    "    if numero < 1000:\n",
    "        if numero >= 100:\n",
    "            centena = str(numero)[0]\n",
    "            dezena = str(numero)[1]\n",
    "            unidade = str(numero)[2]\n",
    "            print(f'{numero} = {centena} centenas, {dezena} dezenas e {unidade} unidades.')\n",
    "        elif numero >= 10:\n",
    "            dezena = str(numero)[0]\n",
    "            unidade = str(numero)[1]\n",
    "            print(f'{numero} = {dezena} dezenas e {unidade} unidades.')\n",
    "        else:\n",
    "            print(f'{numero} = {numero} unidades.')\n",
    "        resposta = input('Deseja tentar outro número? (s/n)')\n",
    "        if resposta == 'n':\n",
    "            break\n",
    "    else:\n",
    "        print('Eu disse menor que 1000...')"
   ]
  },
  {
   "cell_type": "markdown",
   "metadata": {},
   "source": [
    "20. Faça um Programa para leitura de três notas parciais de um aluno. O programa deve calcular a média alcançada por aluno e presentar:\n",
    "- A mensagem \"Aprovado\", se a média for maior ou igual a 7, com a respectiva média alcançada;\n",
    "- A mensagem \"Reprovado\", se a média for menor do que 7, com a respectiva média alcançada;\n",
    "- A mensagem \"Aprovado com Distinção\", se a média for igual a 10."
   ]
  },
  {
   "cell_type": "code",
   "execution_count": 37,
   "metadata": {},
   "outputs": [
    {
     "name": "stdout",
     "output_type": "stream",
     "text": [
      "10.0\n",
      "10.0\n",
      "10.0\n",
      "\n",
      "Aprovado com Distinção! Média: 10.0\n"
     ]
    }
   ],
   "source": [
    "notas = [float(input(f'Digite a {item + 1}° Número: ')) for item in range(3)]\n",
    "media = (notas[0] + notas[1] + notas[2]) / 3\n",
    "\n",
    "for nota in notas:\n",
    "    print(nota)\n",
    "if media == 10:\n",
    "    print(f'\\nAprovado com Distinção! Média: {media:.1f}')\n",
    "elif media >= 7:\n",
    "    print(f'Aprovado! Média: {media:.1f}')\n",
    "else:\n",
    "    print(f'Reprovado! Média: {media:.1f}')"
   ]
  },
  {
   "cell_type": "markdown",
   "metadata": {},
   "source": [
    "21. Faça um Programa para um caixa eletrônico. O programa deverá perguntar ao usuário a valor do saque e depois informar quantas notas de cada valor serão fornecidas. As notas disponíveis serão as de 1, 5, 10, 50 e 100 reais. O valor mínimo é de 10 reais e o máximo de 600 reais. O programa não deve se preocupar com a quantidade de notas existentes na máquina.\n",
    "- Exemplo 1: Para sacar a quantia de 256 reais, o programa fornece duas notas de 100, uma nota de 50, uma nota de 5 e uma nota de 1;\n",
    "- Exemplo 2: Para sacar a quantia de 399 reais, o programa fornece três notas de 100, uma nota de 50, quatro notas de 10, uma nota de 5 e quatro notas de 1."
   ]
  },
  {
   "cell_type": "code",
   "execution_count": 2,
   "metadata": {},
   "outputs": [
    {
     "name": "stdout",
     "output_type": "stream",
     "text": [
      "Caixa Eletrônico (Valor de Saque Mínimo: R$ 10,00 / Máximo: R$ 600,00)\n",
      "Para sacar a quantia de 579 reais, o caixa fornecerá:\n",
      "5 nota(s) de 100 reais\n",
      "1 nota(s) de 50 reais\n",
      "2 nota(s) de 10 reais\n",
      "1 nota(s) de 5 reais\n",
      "4 nota(s) de 1 reais\n"
     ]
    }
   ],
   "source": [
    "notas = [100, 50, 10, 5, 1]\n",
    "\n",
    "print('Caixa Eletrônico (Valor de Saque Mínimo: R$ 10,00 / Máximo: R$ 600,00)')\n",
    "valor = int(input('Digite o valor do saque: '))\n",
    "\n",
    "if valor < 10 or valor > 600:\n",
    "    print(\"Valor fora do intervalo permitido.\")\n",
    "else:\n",
    "    quantidade_notas = {}\n",
    "    valor_restante = valor\n",
    "    for nota in notas:\n",
    "        quantidade_notas[nota], valor_restante = divmod(valor_restante, nota)\n",
    "\n",
    "print(f\"Para sacar a quantia de {valor} reais, o caixa fornecerá:\")\n",
    "for nota in notas:\n",
    "    if quantidade_notas[nota] > 0:\n",
    "        print(f\"{quantidade_notas[nota]} nota(s) de {nota} reais\")\n"
   ]
  },
  {
   "cell_type": "markdown",
   "metadata": {},
   "source": [
    "22. Faça um Programa que peça um número inteiro e determine se ele é par ou impar. Dica: utilize o operador módulo (resto da divisão)."
   ]
  },
  {
   "cell_type": "code",
   "execution_count": 5,
   "metadata": {},
   "outputs": [
    {
     "name": "stdout",
     "output_type": "stream",
     "text": [
      "O número digitado (25) é ímpar.\n"
     ]
    }
   ],
   "source": [
    "numero = int(input('Digite um número inteiro: '))\n",
    "\n",
    "if numero % 2:\n",
    "    print(f'O número digitado ({numero}) é ímpar.')\n",
    "else:\n",
    "    print(f'O número digitado ({numero}) é par.')"
   ]
  },
  {
   "cell_type": "markdown",
   "metadata": {},
   "source": [
    "23. Faça um Programa que peça um número e informe se o número é inteiro ou decimal. Dica: utilize uma função de arredondamento."
   ]
  },
  {
   "cell_type": "code",
   "execution_count": 12,
   "metadata": {},
   "outputs": [
    {
     "name": "stdout",
     "output_type": "stream",
     "text": [
      "120.58 é um número decimal.\n"
     ]
    }
   ],
   "source": [
    "numero = float(input('Digite um número: '))\n",
    "\n",
    "if numero == round(numero):                     #round verifica se é um número inteiro ou decimal\n",
    "    print(f\"{numero} é um número inteiro.\")\n",
    "else:\n",
    "    print(f\"{numero} é um número decimal.\")"
   ]
  },
  {
   "cell_type": "markdown",
   "metadata": {},
   "source": [
    "24. Faça um Programa que leia 2 números e em seguida pergunte ao usuário qual operação ele deseja realizar. O resultado da operação deve ser acompanhado de uma frase que diga se o número é:\n",
    "- par ou ímpar;\n",
    "- positivo ou negativo;\n",
    "- inteiro ou decimal."
   ]
  },
  {
   "cell_type": "code",
   "execution_count": 36,
   "metadata": {},
   "outputs": [
    {
     "name": "stdout",
     "output_type": "stream",
     "text": [
      "1° Número: 150.0 | 2º Número: 2.4\n",
      "Resultado da operação: 62.5\n",
      "É ímpar.\n",
      "É positivo\n",
      "É um número decimal.\n"
     ]
    }
   ],
   "source": [
    "def soma(num1, num2):\n",
    "    return num1 + num2\n",
    "\n",
    "def subtracao(num1, num2):\n",
    "    return num1 - num2\n",
    "\n",
    "def multiplicacao(num1, num2):\n",
    "    return num1 * num2\n",
    "\n",
    "def divisao(num1, num2):\n",
    "    return num1 / num2\n",
    "\n",
    "def opcao_invalida():\n",
    "    print('Opção inválida! Tente novamente.')\n",
    "\n",
    "opcoes = {                                               #Utilizando dicionário para poder ficar organizado e funcional\n",
    "    '1': soma,\n",
    "    '2': subtracao,\n",
    "    '3': multiplicacao,\n",
    "    '4': divisao\n",
    "}\n",
    "\n",
    "escolha = input('Escolha uma opção: 1-Soma, 2-Subtração, 3-Multiplicação ou 4-Divisão')\n",
    "\n",
    "if escolha in opcoes:\n",
    "    num1 = float(input('Digite o primeiro número: '))\n",
    "    num2 = float(input('Digite o segundo número: '))\n",
    "    print(f'1° Número: {num1} | 2º Número: {num2}')\n",
    "\n",
    "    resultado = opcoes[escolha](num1, num2)\n",
    "    print(f'Resultado da operação: {resultado}')\n",
    "\n",
    "    if resultado % 2:                                     #verificando se é impar ou par\n",
    "        print('É ímpar.')\n",
    "    else:\n",
    "        print('É par.')\n",
    "\n",
    "    if resultado >= 0:                                    #verificando se é negativo ou positivo\n",
    "        print('É positivo')\n",
    "    else:\n",
    "        print('É negativo')\n",
    "\n",
    "    if resultado == round(resultado):                     #verificando se é um número inteiro ou decimal\n",
    "        print(\"É um número inteiro.\")\n",
    "    else:\n",
    "        print(\"É um número decimal.\")\n",
    "else:\n",
    "    resultado = opcao_invalida()\n"
   ]
  },
  {
   "cell_type": "markdown",
   "metadata": {},
   "source": [
    "25. Faça um programa que faça 5 perguntas para uma pessoa sobre um crime. As perguntas são:\n",
    "- \"Telefonou para a vítima?\"\n",
    "- \"Esteve no local do crime?\"\n",
    "- \"Mora perto da vítima?\"\n",
    "- \"Devia para a vítima?\"\n",
    "- \"Já trabalhou com a vítima?\" \n",
    "    \n",
    "    O programa deve no final emitir uma classificação sobre a participação da pessoa no crime. Se a pessoa responder positivamente a 2 questões ela deve ser classificada como \"Suspeita\", entre 3 e 4 como \"Cúmplice\" e 5 como \"Assassino\". Caso contrário, ele será classificado como \"Inocente\"."
   ]
  },
  {
   "cell_type": "code",
   "execution_count": 37,
   "metadata": {},
   "outputs": [
    {
     "name": "stdout",
     "output_type": "stream",
     "text": [
      "Respondeu 3 questões positivas de 5 questões totais.\n",
      "Pessoa classificada como Cúmplice!\n"
     ]
    }
   ],
   "source": [
    "pergunta_1 = input('Telefonou para a vítima? (s/n)')\n",
    "pergunta_2 = input('Esteve no local do crime? (s/n)')\n",
    "pergunta_3 = input('Mora perto da vítima? (s/n)')\n",
    "pergunta_4 = input('Devia para a vítima? (s/n)')\n",
    "pergunta_5 = input('Já trabalhou com a vítima? (s/n)')\n",
    "positivo = 0\n",
    "\n",
    "if pergunta_1 == 's' or pergunta_1 == 'S':\n",
    "    positivo += 1\n",
    "if pergunta_2 == 's' or pergunta_2 == 'S':\n",
    "    positivo += 1\n",
    "if pergunta_3 == 's' or pergunta_3 == 'S':\n",
    "    positivo += 1\n",
    "if pergunta_4 == 's' or pergunta_4 == 'S':\n",
    "    positivo += 1\n",
    "if pergunta_5 == 's' or pergunta_5 == 'S':\n",
    "    positivo += 1\n",
    "\n",
    "print(f'Respondeu {positivo} questões positivas de 5 questões totais.')\n",
    "\n",
    "if positivo == 5:\n",
    "    print('Pessoa classificada como Assassino!')\n",
    "elif positivo >= 3:\n",
    "    print('Pessoa classificada como Cúmplice!')\n",
    "elif positivo == 2:\n",
    "    print('Pessoa classificada como Suspeita!')\n",
    "else:\n",
    "    print('Pessoa classificada como Inocente!')"
   ]
  },
  {
   "cell_type": "markdown",
   "metadata": {},
   "source": [
    "26. Um posto está vendendo combustíveis com a seguinte tabela de descontos:\n",
    "\n",
    "Álcool:\n",
    "- até 20 litros, desconto de 3% por litro\n",
    "- acima de 20 litros, desconto de 5% por litro\n",
    "\n",
    "Gasolina:\n",
    "- até 20 litros, desconto de 4% por litro\n",
    "- acima de 20 litros, desconto de 6% por litro \n",
    "\n",
    "    Escreva um algoritmo que leia o número de litros vendidos, o tipo de combustível (codificado da seguinte forma: A-álcool, G-gasolina), calcule e imprima o valor a ser pago pelo cliente sabendo-se que o preço do litro da gasolina é R$ 2,50 o preço do litro do álcool é R$ 1,90."
   ]
  },
  {
   "cell_type": "code",
   "execution_count": 39,
   "metadata": {},
   "outputs": [
    {
     "name": "stdout",
     "output_type": "stream",
     "text": [
      "Combustível abastecido: G-gasolina\n",
      "Total de litros abastecidos: 26.0\n",
      "Valor devido: R$ 61.10\n"
     ]
    }
   ],
   "source": [
    "combustível = input('Qual combustível abasteceu? (A-álcool | G-gasolina): ')\n",
    "litros = float(input('Quantos litros? '))\n",
    "\n",
    "if combustível == 'A' or combustível == 'a':\n",
    "    print('Combustível abastacido: A-álcool')\n",
    "    valor = litros * 1.90\n",
    "    if litros <= 20:\n",
    "        desconto = 0.03\n",
    "    else:\n",
    "        desconto = 0.05\n",
    "\n",
    "if combustível == 'G' or combustível == 'g':\n",
    "    print('Combustível abastecido: G-gasolina')\n",
    "    valor = litros * 2.50\n",
    "    if litros <= 20:\n",
    "        desconto = 0.04\n",
    "    else:\n",
    "        desconto = 0.06\n",
    "\n",
    "reducao = valor * desconto\n",
    "valor_final = valor - reducao\n",
    "\n",
    "print(f'Total de litros abastecidos: {litros}')\n",
    "print(f'Valor devido: R$ {valor_final:.2f}')"
   ]
  },
  {
   "cell_type": "markdown",
   "metadata": {},
   "source": [
    "27. Uma fruteira está vendendo frutas com a seguinte tabela de preços:\n",
    "\n",
    "    - -- -- -- -- -- Até 5 Kg -- -- -- - Acima de 5 Kg\n",
    "    - Morango -- R$ 2,50 por Kg -- R$ 2,20 por Kg\n",
    "    - Maçã ------ R$ 1,80 por Kg -- R$ 1,50 por Kg\n",
    "    \n",
    "Se o cliente comprar mais de 8 Kg em frutas ou o valor total da compra ultrapassar R$ 25,00, receberá ainda um desconto de 10% sobre este total. Escreva um algoritmo para ler a quantidade (em Kg) de morangos e a quantidade (em Kg) de maças adquiridas e escreva o valor a ser pago pelo cliente."
   ]
  },
  {
   "cell_type": "code",
   "execution_count": 44,
   "metadata": {},
   "outputs": [
    {
     "name": "stdout",
     "output_type": "stream",
     "text": [
      "Você pegou 5.0 Kg de morangos e 5.0 Kg de maçãs.\n",
      "Valor total a ser pago: R$ 19.35\n"
     ]
    }
   ],
   "source": [
    "morango = float(input('Quantos quilos de morango comprou? '))\n",
    "maca = float(input('Quantos quilos de maçâ comprou? '))\n",
    "quilo_total = morango + maca\n",
    "\n",
    "if morango <= 5:\n",
    "    valor_kg_morango = 2.5\n",
    "else:\n",
    "    valor_kg_morango = 2.2\n",
    "\n",
    "if maca <= 5:\n",
    "    valor_kg_maca = 1.8\n",
    "else:\n",
    "    valor_kg_maca = 1.5\n",
    "\n",
    "valor_morango = morango * valor_kg_morango\n",
    "valor_maca = maca * valor_kg_maca\n",
    "valor_total = valor_morango + valor_maca\n",
    "\n",
    "if quilo_total > 8 or valor_total > 25:    \n",
    "    porcento = 0.10\n",
    "desconto = valor_total * porcento\n",
    "valor_final = valor_total - desconto\n",
    "\n",
    "print(f'Você pegou {morango} Kg de morangos e {maca} Kg de maçãs.\\n'\n",
    "      + f'Valor total a ser pago: R$ {valor_final:.2f}')\n"
   ]
  },
  {
   "cell_type": "markdown",
   "metadata": {},
   "source": [
    "28. O Hipermercado Tabajara está com uma promoção de carnes que é imperdível. Confira:\n",
    "\n",
    "                      Até 5 Kg           Acima de 5 Kg\n",
    "- File Duplo -- -- -- R$ 4,90 por Kg -- -- --  R$ 5,80 por Kg\n",
    "- Alcatra -- -- -- --- R$ 5,90 por Kg -- -- --  R$ 6,80 por Kg\n",
    "- Picanha -- -- -- --- R$ 6,90 por Kg -- -- -- R$ 7,80 por Kg\n",
    "\n",
    "Para atender a todos os clientes, cada cliente poderá levar apenas um dos tipos de carne da promoção, porém não há limites para a quantidade de carne por cliente. Se compra for feita no cartão Tabajara o cliente receberá ainda um desconto de 5% sobre o total da compra. Escreva um programa que peça o tipo e a quantidade de carne comprada pelo usuário e gere um cupom fiscal, contendo as informações da compra: tipo e quantidade de carne, preço total, tipo de pagamento, valor do desconto e valor a pagar."
   ]
  },
  {
   "cell_type": "code",
   "execution_count": 50,
   "metadata": {},
   "outputs": [
    {
     "name": "stdout",
     "output_type": "stream",
     "text": [
      "Alcatra - 6.00 Kg\n",
      "Valor Total: R$ 40.80\n",
      "Desconto pelo cartão Tabajara: 5%\n",
      "Valor com desconto: R$ 38.76\n"
     ]
    }
   ],
   "source": [
    "escolha = input('Qual carne comprar? (F-filé duplo | A-alcatra | P-picanha): ')\n",
    "quilos = float(input('Quantos quilos comprar? '))\n",
    "cartao = input('Pagar no cartão Tabajara? (s/n)')\n",
    "\n",
    "if cartao == 's':\n",
    "    porcento = 0.05\n",
    "\n",
    "if quilos <= 5:\n",
    "        valor_file = 4.90\n",
    "        valor_alcatra = 5.90\n",
    "        valor_picanha = 6.90\n",
    "else:\n",
    "        valor_file = 5.80\n",
    "        valor_alcatra = 6.80\n",
    "        valor_picanha = 7.80\n",
    "\n",
    "if escolha == 'F' or escolha == 'f':\n",
    "    print(f'Filé Duplo - {quilos:.2f} Kg')\n",
    "    valor = valor_file * quilos\n",
    "if escolha == 'A' or escolha == 'a':\n",
    "    print(f'Alcatra - {quilos:.2f} Kg')\n",
    "    valor = valor_alcatra * quilos\n",
    "if escolha == 'P' or escolha == 'p':\n",
    "    print(f'Picanha - {quilos:.2f} Kg')\n",
    "    valor = valor_picanha * quilos\n",
    "\n",
    "desconto = valor * porcento\n",
    "valor_final = valor - desconto\n",
    "\n",
    "print(f'Valor Total: R$ {valor:.2f}')\n",
    "if cartao == 's':\n",
    "    print(f'Desconto pelo cartão Tabajara: 5%')\n",
    "    print(f'Valor com desconto: R$ {valor_final:.2f}')\n"
   ]
  }
 ],
 "metadata": {
  "kernelspec": {
   "display_name": "Python 3",
   "language": "python",
   "name": "python3"
  },
  "language_info": {
   "codemirror_mode": {
    "name": "ipython",
    "version": 3
   },
   "file_extension": ".py",
   "mimetype": "text/x-python",
   "name": "python",
   "nbconvert_exporter": "python",
   "pygments_lexer": "ipython3",
   "version": "3.12.3"
  }
 },
 "nbformat": 4,
 "nbformat_minor": 2
}
